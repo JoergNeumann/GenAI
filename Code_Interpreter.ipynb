{
  "cells": [
    {
      "cell_type": "markdown",
      "metadata": {
        "id": "view-in-github",
        "colab_type": "text"
      },
      "source": [
        "<a href=\"https://colab.research.google.com/github/JoergNeumann/GenAI/blob/main/Code_Interpreter.ipynb\" target=\"_parent\"><img src=\"https://colab.research.google.com/assets/colab-badge.svg\" alt=\"Open In Colab\"/></a>"
      ]
    },
    {
      "cell_type": "markdown",
      "id": "00288aa2",
      "metadata": {
        "id": "00288aa2"
      },
      "source": [
        "# Code Interpreter\n",
        "Beispiel für die Verwendung der OpenAI Assistant API und des Code Interpreter-Features.\n",
        "\n",
        "## Setup"
      ]
    },
    {
      "cell_type": "code",
      "execution_count": null,
      "id": "PLE_9DlFKRYS",
      "metadata": {
        "id": "PLE_9DlFKRYS"
      },
      "outputs": [],
      "source": [
        "!pip install openai==1.55.3 httpx==0.27.2 --force-reinstall --quiet"
      ]
    },
    {
      "cell_type": "code",
      "source": [
        "import os\n",
        "os.kill(os.getpid(), 9)"
      ],
      "metadata": {
        "id": "Y2qEoqtUMBKg"
      },
      "id": "Y2qEoqtUMBKg",
      "execution_count": null,
      "outputs": []
    },
    {
      "cell_type": "markdown",
      "id": "c5c50989",
      "metadata": {
        "id": "c5c50989"
      },
      "source": [
        "## Assistant erstellen"
      ]
    },
    {
      "cell_type": "code",
      "execution_count": 1,
      "id": "c3d286df",
      "metadata": {
        "id": "c3d286df"
      },
      "outputs": [],
      "source": [
        "import openai\n",
        "import os\n",
        "import time\n",
        "\n",
        "# OpenAI API Key aus Colab Secret auslesen und OpenAI Client erstellen\n",
        "from google.colab import userdata\n",
        "api_key = userdata.get('OPENAI_API_KEY')\n",
        "client = openai.OpenAI(api_key=api_key)\n",
        "\n",
        "assistant = client.beta.assistants.create(\n",
        "  name=\"Technical Assistant\",\n",
        "  instructions=\"You helps people with technical issues.\",\n",
        "  tools=[{\"type\": \"code_interpreter\"}],\n",
        "  model=\"gpt-4o\",\n",
        ")"
      ]
    },
    {
      "cell_type": "markdown",
      "id": "5c9ffeb6",
      "metadata": {
        "id": "5c9ffeb6"
      },
      "source": [
        "## Thread erstellen"
      ]
    },
    {
      "cell_type": "code",
      "execution_count": 2,
      "id": "85ee96d7",
      "metadata": {
        "id": "85ee96d7"
      },
      "outputs": [],
      "source": [
        "thread = client.beta.threads.create()"
      ]
    },
    {
      "cell_type": "markdown",
      "source": [
        "## Anweisung absetzen"
      ],
      "metadata": {
        "id": "rfZw2k33hKVl"
      },
      "id": "rfZw2k33hKVl"
    },
    {
      "cell_type": "code",
      "execution_count": 3,
      "id": "b2045959",
      "metadata": {
        "id": "b2045959"
      },
      "outputs": [],
      "source": [
        "message = client.beta.threads.messages.create(\n",
        "  thread_id=thread.id,\n",
        "  role=\"user\",\n",
        "  content=\"create a qr-code for 'www.neogeeks.de' and give it back to me.\"\n",
        ")"
      ]
    },
    {
      "cell_type": "markdown",
      "source": [
        "## Run und Event Handler erstellen"
      ],
      "metadata": {
        "id": "BE0pTJJqKEJn"
      },
      "id": "BE0pTJJqKEJn"
    },
    {
      "cell_type": "code",
      "source": [
        "from typing_extensions import override\n",
        "from openai import AssistantEventHandler\n",
        "\n",
        "class EventHandler(AssistantEventHandler):\n",
        "  @override\n",
        "  def on_text_created(self, text) -> None:\n",
        "    print(f\"\\nassistant > \", end=\"\", flush=True)\n",
        "\n",
        "  @override\n",
        "  def on_text_delta(self, delta, snapshot):\n",
        "    print(delta.value, end=\"\", flush=True)\n",
        "\n",
        "  def on_tool_call_created(self, tool_call):\n",
        "    print(f\"\\nassistant > {tool_call.type}\\n\", flush=True)\n",
        "\n",
        "  def on_tool_call_delta(self, delta, snapshot):\n",
        "    if delta.type == 'code_interpreter':\n",
        "      if delta.code_interpreter.input:\n",
        "        print(delta.code_interpreter.input, end=\"\", flush=True)\n",
        "      if delta.code_interpreter.outputs:\n",
        "        print(f\"\\n\\noutput >\", flush=True)\n",
        "        for output in delta.code_interpreter.outputs:\n",
        "          if output.type == \"logs\":\n",
        "            print(f\"\\n{output.logs}\", flush=True)\n",
        "\n",
        "\n",
        "with client.beta.threads.runs.stream(\n",
        "  thread_id=thread.id,\n",
        "  assistant_id=assistant.id,\n",
        "  event_handler=EventHandler(),\n",
        ") as stream:\n",
        "  stream.until_done()\n"
      ],
      "metadata": {
        "id": "YQ0a5YyNKJXt",
        "outputId": "cdf59a38-f36d-4c28-c857-06a503748210",
        "colab": {
          "base_uri": "https://localhost:8080/"
        }
      },
      "id": "YQ0a5YyNKJXt",
      "execution_count": 4,
      "outputs": [
        {
          "output_type": "stream",
          "name": "stdout",
          "text": [
            "\n",
            "assistant > code_interpreter\n",
            "\n",
            "import qrcode\n",
            "\n",
            "# Create a QR code for the given URL\n",
            "input_data = \"www.neogeeks.de\"\n",
            "qr = qrcode.QRCode(\n",
            "    version=1,\n",
            "    error_correction=qrcode.constants.ERROR_CORRECT_L,\n",
            "    box_size=10,\n",
            "    border=4,\n",
            ")\n",
            "qr.add_data(input_data)\n",
            "qr.make(fit=True)\n",
            "\n",
            "# Create an image from the QR Code instance\n",
            "img = qr.make_image(fill_color=\"black\", back_color=\"white\")\n",
            "\n",
            "# Save the image\n",
            "img_path = '/mnt/data/neogeeks_qr.png'\n",
            "img.save(img_path)\n",
            "\n",
            "img_path\n",
            "assistant > I've created the QR code for 'www.neogeeks.de'. You can download it using the link below:\n",
            "\n",
            "[Download the QR Code](sandbox:/mnt/data/neogeeks_qr.png)None"
          ]
        }
      ]
    },
    {
      "cell_type": "markdown",
      "source": [
        "##Mit Dateien arbeiten"
      ],
      "metadata": {
        "id": "hVJMyce36TzN"
      },
      "id": "hVJMyce36TzN"
    },
    {
      "cell_type": "code",
      "source": [
        "# Datei hochladen\n",
        "file_path = \"/content/Umsatz.csv\"  # Pfad zur hochzuladenden Datei\n",
        "with open(file_path, \"rb\") as file:\n",
        "    uploaded_file = client.files.create(file=file, purpose=\"assistants\")\n",
        "\n",
        "# Assistenten erstellen\n",
        "assistant = client.beta.assistants.create(\n",
        "    name=\"Data Analyst\",\n",
        "    instructions=\"Du bist ein Assistent, der Daten analysiert und bewertet.\",\n",
        "    tools=[{\"type\": \"code_interpreter\"}],\n",
        "    tool_resources={\n",
        "      \"code_interpreter\": {\n",
        "        \"file_ids\": [uploaded_file.id]\n",
        "      }\n",
        "    },\n",
        "    model=\"gpt-4-1106-preview\",\n",
        ")\n",
        "\n",
        "# Neuen Thread erstellen\n",
        "thread = client.beta.threads.create()\n",
        "\n",
        "# Benutzeranfrage mit Datei-ID hinzufügen\n",
        "message = client.beta.threads.messages.create(\n",
        "    thread_id=thread.id,\n",
        "    role=\"user\",\n",
        "    content=\"Bitte ermittle den durchschnittlichen Umsatz in der hochgeladenen Datei.\",\n",
        ")\n",
        "\n",
        "# Ausführung starten\n",
        "run = client.beta.threads.runs.create(thread_id=thread.id, assistant_id=assistant.id)\n",
        "\n",
        "# Auf Abschluss der Ausführung warten\n",
        "while run.status in [\"queued\", \"in_progress\"]:\n",
        "    time.sleep(1)\n",
        "    run = client.beta.threads.runs.retrieve(thread_id=thread.id, run_id=run.id)\n",
        "\n",
        "# Ergebnisse abrufen\n",
        "if run.status == \"completed\":\n",
        "    messages = client.beta.threads.messages.list(thread_id=thread.id)\n",
        "    for msg in messages.data:\n",
        "        if msg.role == \"assistant\":\n",
        "            for content in msg.content:\n",
        "                if content.type == \"text\":\n",
        "                    print(content.text.value)\n",
        "                elif content.type == \"code\":\n",
        "                    print(\"Generierter Code:\\n\", content.code.value)\n",
        "                elif content.type == \"image_file\":\n",
        "                    print(\"Generiertes Bild:\", content.image_file.file_id)\n",
        "else:\n",
        "    print(\"Die Ausführung ist fehlgeschlagen.\")\n"
      ],
      "metadata": {
        "id": "BVqgKc-XJHSw",
        "outputId": "cff38f57-08f3-4e48-d7b6-c95a9240e66e",
        "colab": {
          "base_uri": "https://localhost:8080/"
        }
      },
      "id": "BVqgKc-XJHSw",
      "execution_count": 5,
      "outputs": [
        {
          "output_type": "stream",
          "name": "stdout",
          "text": [
            "Der durchschnittliche Umsatz in der hochgeladenen Datei beträgt etwa 276.428,57 €.\n",
            "Die Datei scheint ein semikolon-getrenntes CSV zu sein. Ich werde die Daten mit der korrekten Trennung einlesen, und dann werde ich den durchschnittlichen Umsatz berechnen. Dabei ist zu beachten, dass die Umsatzwerte in der Spalte \"Umsatz\" als Text und mit einem Euro-Zeichen am Ende vorliegen. Ich muss also diese Zeichen entfernen und die Zahlen in einen numerischen Typ umwandeln, bevor ich den Durchschnitt berechnen kann. Ich werde nun mit diesem Prozess fortfahren.\n",
            "Zuerst muss ich herausfinden, in welchem Format die Datei vorliegt. Basierend darauf kann ich entscheiden, wie ich die Daten einlese und den Durchschnittsberechnung durchführe. Ich werde mit der Untersuchung der Datei beginnen, um festzustellen, welches Format sie hat und welche Daten sie enthält.\n"
          ]
        }
      ]
    },
    {
      "cell_type": "markdown",
      "source": [
        "\n",
        "\n",
        "## OCR anwenden"
      ],
      "metadata": {
        "id": "KAV185c27vGT"
      },
      "id": "KAV185c27vGT"
    },
    {
      "cell_type": "code",
      "source": [
        "# Datei hochladen\n",
        "file_path = \"/content/R240004.png\"  # Pfad zur hochzuladenden Datei\n",
        "with open(file_path, \"rb\") as file:\n",
        "    invoice_file = client.files.create(file=file, purpose=\"assistants\")\n",
        "\n",
        "# Assistenten erstellen\n",
        "assistant = client.beta.assistants.create(\n",
        "    name=\"Data Analyst\",\n",
        "    instructions=\"Du bist ein Assistent, der Daten analysiert und bewertet.\",\n",
        "    tools=[{\"type\": \"code_interpreter\"}],\n",
        "    tool_resources={\n",
        "      \"code_interpreter\": {\n",
        "        \"file_ids\": [invoice_file.id]\n",
        "      }\n",
        "    },\n",
        "    model=\"gpt-4-1106-preview\",\n",
        ")\n",
        "\n",
        "# Neuen Thread erstellen\n",
        "thread = client.beta.threads.create()\n",
        "\n",
        "# Benutzeranfrage mit Datei-ID hinzufügen\n",
        "message = client.beta.threads.messages.create(\n",
        "    thread_id=thread.id,\n",
        "    role=\"user\",\n",
        "    content=\"Bitte ermittle die Rechnungsnummer in der hochgeladenen Datei.\",\n",
        ")\n",
        "\n",
        "# Ausführung starten\n",
        "run = client.beta.threads.runs.create(thread_id=thread.id, assistant_id=assistant.id)\n",
        "\n",
        "# Auf Abschluss der Ausführung warten\n",
        "while run.status in [\"queued\", \"in_progress\"]:\n",
        "    time.sleep(1)\n",
        "    run = client.beta.threads.runs.retrieve(thread_id=thread.id, run_id=run.id)\n",
        "\n",
        "# Ergebnisse abrufen\n",
        "if run.status == \"completed\":\n",
        "    messages = client.beta.threads.messages.list(thread_id=thread.id)\n",
        "    for msg in messages.data:\n",
        "        if msg.role == \"assistant\":\n",
        "            for content in msg.content:\n",
        "                if content.type == \"text\":\n",
        "                    print(content.text.value)\n",
        "                elif content.type == \"code\":\n",
        "                    print(\"Generierter Code:\\n\", content.code.value)\n",
        "                elif content.type == \"image_file\":\n",
        "                    print(\"Generiertes Bild:\", content.image_file.file_id)\n",
        "else:\n",
        "    print(\"Die Ausführung ist fehlgeschlagen.\")"
      ],
      "metadata": {
        "id": "on0ABdvT4wQz",
        "outputId": "a3e01359-eccb-4dab-a52a-b7131a20b6a8",
        "colab": {
          "base_uri": "https://localhost:8080/"
        }
      },
      "id": "on0ABdvT4wQz",
      "execution_count": 7,
      "outputs": [
        {
          "output_type": "stream",
          "name": "stdout",
          "text": [
            "Die OCR-Texterkennung hat erfolgreich Text aus dem Bild extrahiert. Hier ist ein Teil des Textes, der die Rechnungsnummer enthält:\n",
            "\n",
            "```\n",
            "N NEOGEEKS\n",
            "\n",
            "Testmann GmbH Rechnung R240004\n",
            "...\n",
            "```\n",
            "\n",
            "Die Rechnungsnummer lautet: R240004\n",
            "\n",
            "Bitte lassen Sie mich wissen, ob Sie weitere Informationen oder Aktionen in Bezug auf diese Datei benötigen.\n",
            "Die ersten Bytes der Datei deuten darauf hin, dass es sich um eine PNG-Bilddatei handelt, da sie mit der typischen PNG-Signatur \"\\x89PNG\\r\\n\\x1a\\n\" beginnt. Das bedeutet, dass ich das Bild laden und möglicherweise Texterkennung (Optical Character Recognition, OCR) verwenden muss, um die Rechnungsnummer aus dem Bild zu extrahieren.\n",
            "\n",
            "Ich werde nun das Bild mit geeigneten OCR-Tools verarbeiten, um nach der Rechnungsnummer zu suchen. Dafür werde ich die OCR-Engine Tesseract über die Pytesseract-Bibliothek verwenden. Lassen Sie mich diesen Schritt durchführen.\n",
            "Die hochgeladene Datei scheint keine Erweiterung zu haben, was es schwierig macht, den Dateityp direkt zu identifizieren. Das ist nicht ungewöhnlich, da manche Dateien manchmal ohne Erweiterung gespeichert werden oder die Erweiterung beim Hochladen verloren gehen kann.\n",
            "\n",
            "Ich werde versuchen, den Inhalt der Datei zu analysieren, um herauszufinden, um welche Art von Datei es sich handelt. Es ist möglich, dass es sich um eine Text-, PDF- oder Bilddatei handelt, da diese häufig für Rechnungen verwendet werden. Ich fange damit an, die ersten Bytes der Datei zu betrachten, um Anhaltspunkte zu finden. Lassen Sie uns dies tun.\n",
            "Um die Rechnungsnummer in der hochgeladenen Datei zu finden, muss ich zuerst den Dateityp identifizieren und dann die Datei entsprechend öffnen und analysieren. Ich werde damit beginnen, den Dateinamen und die Dateierweiterung zu überprüfen, um festzustellen, wie ich die Datei am besten verarbeiten kann. Lassen Sie mich das schnell überprüfen.\n"
          ]
        }
      ]
    }
  ],
  "metadata": {
    "colab": {
      "provenance": [],
      "include_colab_link": true
    },
    "kernelspec": {
      "display_name": "Python 3 (ipykernel)",
      "language": "python",
      "name": "python3"
    },
    "language_info": {
      "codemirror_mode": {
        "name": "ipython",
        "version": 3
      },
      "file_extension": ".py",
      "mimetype": "text/x-python",
      "name": "python",
      "nbconvert_exporter": "python",
      "pygments_lexer": "ipython3",
      "version": "3.12.2"
    }
  },
  "nbformat": 4,
  "nbformat_minor": 5
}