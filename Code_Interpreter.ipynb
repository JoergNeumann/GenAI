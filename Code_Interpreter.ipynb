{
  "cells": [
    {
      "cell_type": "markdown",
      "id": "00288aa2",
      "metadata": {
        "id": "00288aa2"
      },
      "source": [
        "# Code Interpreter\n",
        "Beispiel für die Verwendung der OpenAI Assistant API und des Code Interpreter-Features.\n",
        "\n",
        "## Setup"
      ]
    },
    {
      "cell_type": "code",
      "execution_count": null,
      "id": "PLE_9DlFKRYS",
      "metadata": {
        "id": "PLE_9DlFKRYS"
      },
      "outputs": [],
      "source": [
        "!pip install -qU openai==1.52.2"
      ]
    },
    {
      "cell_type": "markdown",
      "id": "c5c50989",
      "metadata": {
        "id": "c5c50989"
      },
      "source": [
        "## Assistant erstellen"
      ]
    },
    {
      "cell_type": "code",
      "execution_count": null,
      "id": "c3d286df",
      "metadata": {
        "id": "c3d286df"
      },
      "outputs": [],
      "source": [
        "import openai\n",
        "import os\n",
        "import time\n",
        "\n",
        "# OpenAI API Key aus Colab Secret auslesen und OpenAI Client erstellen\n",
        "from google.colab import userdata\n",
        "api_key = userdata.get('OPENAI_API_KEY')\n",
        "client = openai.OpenAI(api_key=api_key)\n",
        "\n",
        "assistant = client.beta.assistants.create(\n",
        "  name=\"Technical Assistant\",\n",
        "  instructions=\"You helps people with technical issues.\",\n",
        "  tools=[{\"type\": \"code_interpreter\"}],\n",
        "  model=\"gpt-4o\",\n",
        ")"
      ]
    },
    {
      "cell_type": "markdown",
      "id": "5c9ffeb6",
      "metadata": {
        "id": "5c9ffeb6"
      },
      "source": [
        "## Thread erstellen"
      ]
    },
    {
      "cell_type": "code",
      "execution_count": null,
      "id": "85ee96d7",
      "metadata": {
        "id": "85ee96d7"
      },
      "outputs": [],
      "source": [
        "thread = client.beta.threads.create()"
      ]
    },
    {
      "cell_type": "markdown",
      "source": [
        "## Anweisung absetzen"
      ],
      "metadata": {
        "id": "rfZw2k33hKVl"
      },
      "id": "rfZw2k33hKVl"
    },
    {
      "cell_type": "code",
      "execution_count": null,
      "id": "b2045959",
      "metadata": {
        "id": "b2045959"
      },
      "outputs": [],
      "source": [
        "message = client.beta.threads.messages.create(\n",
        "  thread_id=thread.id,\n",
        "  role=\"user\",\n",
        "  content=\"create a qr-code for 'www.neogeeks.de' and give it back to me.\"\n",
        ")"
      ]
    },
    {
      "cell_type": "markdown",
      "source": [
        "## Run und Event Handler erstellen"
      ],
      "metadata": {
        "id": "BE0pTJJqKEJn"
      },
      "id": "BE0pTJJqKEJn"
    },
    {
      "cell_type": "code",
      "source": [
        "from typing_extensions import override\n",
        "from openai import AssistantEventHandler\n",
        "\n",
        "class EventHandler(AssistantEventHandler):\n",
        "  @override\n",
        "  def on_text_created(self, text) -> None:\n",
        "    print(f\"\\nassistant > \", end=\"\", flush=True)\n",
        "\n",
        "  @override\n",
        "  def on_text_delta(self, delta, snapshot):\n",
        "    print(delta.value, end=\"\", flush=True)\n",
        "\n",
        "  def on_tool_call_created(self, tool_call):\n",
        "    print(f\"\\nassistant > {tool_call.type}\\n\", flush=True)\n",
        "\n",
        "  def on_tool_call_delta(self, delta, snapshot):\n",
        "    if delta.type == 'code_interpreter':\n",
        "      if delta.code_interpreter.input:\n",
        "        print(delta.code_interpreter.input, end=\"\", flush=True)\n",
        "      if delta.code_interpreter.outputs:\n",
        "        print(f\"\\n\\noutput >\", flush=True)\n",
        "        for output in delta.code_interpreter.outputs:\n",
        "          if output.type == \"logs\":\n",
        "            print(f\"\\n{output.logs}\", flush=True)\n",
        "\n",
        "\n",
        "with client.beta.threads.runs.stream(\n",
        "  thread_id=thread.id,\n",
        "  assistant_id=assistant.id,\n",
        "  event_handler=EventHandler(),\n",
        ") as stream:\n",
        "  stream.until_done()\n"
      ],
      "metadata": {
        "id": "YQ0a5YyNKJXt"
      },
      "id": "YQ0a5YyNKJXt",
      "execution_count": null,
      "outputs": []
    },
    {
      "cell_type": "markdown",
      "source": [
        "##Mit Dateien arbeiten"
      ],
      "metadata": {
        "id": "hVJMyce36TzN"
      },
      "id": "hVJMyce36TzN"
    },
    {
      "cell_type": "code",
      "source": [
        "# Datei hochladen\n",
        "file_path = \"/content/Umsatz.csv\"  # Pfad zur hochzuladenden Datei\n",
        "with open(file_path, \"rb\") as file:\n",
        "    uploaded_file = client.files.create(file=file, purpose=\"assistants\")\n",
        "\n",
        "# Assistenten erstellen\n",
        "assistant = client.beta.assistants.create(\n",
        "    name=\"Data Analyst\",\n",
        "    instructions=\"Du bist ein Assistent, der Daten analysiert und bewertet.\",\n",
        "    tools=[{\"type\": \"code_interpreter\"}],\n",
        "    tool_resources={\n",
        "      \"code_interpreter\": {\n",
        "        \"file_ids\": [uploaded_file.id]\n",
        "      }\n",
        "    },\n",
        "    model=\"gpt-4-1106-preview\",\n",
        ")\n",
        "\n",
        "# Neuen Thread erstellen\n",
        "thread = client.beta.threads.create()\n",
        "\n",
        "# Benutzeranfrage mit Datei-ID hinzufügen\n",
        "message = client.beta.threads.messages.create(\n",
        "    thread_id=thread.id,\n",
        "    role=\"user\",\n",
        "    content=\"Bitte ermittle den durchschnittlichen Umsatz in der hochgeladenen Datei.\",\n",
        ")\n",
        "\n",
        "# Ausführung starten\n",
        "run = client.beta.threads.runs.create(thread_id=thread.id, assistant_id=assistant.id)\n",
        "\n",
        "# Auf Abschluss der Ausführung warten\n",
        "while run.status in [\"queued\", \"in_progress\"]:\n",
        "    time.sleep(1)\n",
        "    run = client.beta.threads.runs.retrieve(thread_id=thread.id, run_id=run.id)\n",
        "\n",
        "# Ergebnisse abrufen\n",
        "if run.status == \"completed\":\n",
        "    messages = client.beta.threads.messages.list(thread_id=thread.id)\n",
        "    for msg in messages.data:\n",
        "        if msg.role == \"assistant\":\n",
        "            for content in msg.content:\n",
        "                if content.type == \"text\":\n",
        "                    print(content.text.value)\n",
        "                elif content.type == \"code\":\n",
        "                    print(\"Generierter Code:\\n\", content.code.value)\n",
        "                elif content.type == \"image_file\":\n",
        "                    print(\"Generiertes Bild:\", content.image_file.file_id)\n",
        "else:\n",
        "    print(\"Die Ausführung ist fehlgeschlagen.\")\n"
      ],
      "metadata": {
        "id": "BVqgKc-XJHSw"
      },
      "id": "BVqgKc-XJHSw",
      "execution_count": null,
      "outputs": []
    },
    {
      "cell_type": "markdown",
      "source": [
        "\n",
        "\n",
        "## OCR anwenden"
      ],
      "metadata": {
        "id": "KAV185c27vGT"
      },
      "id": "KAV185c27vGT"
    },
    {
      "cell_type": "code",
      "source": [
        "# Datei hochladen\n",
        "file_path = \"/content/R240004.png\"  # Pfad zur hochzuladenden Datei\n",
        "with open(file_path, \"rb\") as file:\n",
        "    invoice_file = client.files.create(file=file, purpose=\"assistants\")\n",
        "\n",
        "# Assistenten erstellen\n",
        "assistant = client.beta.assistants.create(\n",
        "    name=\"Data Analyst\",\n",
        "    instructions=\"Du bist ein Assistent, der Daten analysiert und bewertet.\",\n",
        "    tools=[{\"type\": \"code_interpreter\"}],\n",
        "    tool_resources={\n",
        "      \"code_interpreter\": {\n",
        "        \"file_ids\": [invoice_file.id]\n",
        "      }\n",
        "    },\n",
        "    model=\"gpt-4-1106-preview\",\n",
        ")\n",
        "\n",
        "# Neuen Thread erstellen\n",
        "thread = client.beta.threads.create()\n",
        "\n",
        "# Benutzeranfrage mit Datei-ID hinzufügen\n",
        "message = client.beta.threads.messages.create(\n",
        "    thread_id=thread.id,\n",
        "    role=\"user\",\n",
        "    content=\"Bitte ermittle die Rechnungsnummer in der hochgeladenen Datei.\",\n",
        ")\n",
        "\n",
        "# Ausführung starten\n",
        "run = client.beta.threads.runs.create(thread_id=thread.id, assistant_id=assistant.id)\n",
        "\n",
        "# Auf Abschluss der Ausführung warten\n",
        "while run.status in [\"queued\", \"in_progress\"]:\n",
        "    time.sleep(1)\n",
        "    run = client.beta.threads.runs.retrieve(thread_id=thread.id, run_id=run.id)\n",
        "\n",
        "# Ergebnisse abrufen\n",
        "if run.status == \"completed\":\n",
        "    messages = client.beta.threads.messages.list(thread_id=thread.id)\n",
        "    for msg in messages.data:\n",
        "        if msg.role == \"assistant\":\n",
        "            for content in msg.content:\n",
        "                if content.type == \"text\":\n",
        "                    print(content.text.value)\n",
        "                elif content.type == \"code\":\n",
        "                    print(\"Generierter Code:\\n\", content.code.value)\n",
        "                elif content.type == \"image_file\":\n",
        "                    print(\"Generiertes Bild:\", content.image_file.file_id)\n",
        "else:\n",
        "    print(\"Die Ausführung ist fehlgeschlagen.\")"
      ],
      "metadata": {
        "id": "on0ABdvT4wQz"
      },
      "id": "on0ABdvT4wQz",
      "execution_count": null,
      "outputs": []
    }
  ],
  "metadata": {
    "colab": {
      "provenance": []
    },
    "kernelspec": {
      "display_name": "Python 3 (ipykernel)",
      "language": "python",
      "name": "python3"
    },
    "language_info": {
      "codemirror_mode": {
        "name": "ipython",
        "version": 3
      },
      "file_extension": ".py",
      "mimetype": "text/x-python",
      "name": "python",
      "nbconvert_exporter": "python",
      "pygments_lexer": "ipython3",
      "version": "3.12.2"
    }
  },
  "nbformat": 4,
  "nbformat_minor": 5
}