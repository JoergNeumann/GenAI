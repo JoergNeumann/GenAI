{
  "cells": [
    {
      "cell_type": "markdown",
      "metadata": {
        "id": "view-in-github",
        "colab_type": "text"
      },
      "source": [
        "<a href=\"https://colab.research.google.com/github/JoergNeumann/GenAI/blob/main/Code_Interpreter.ipynb\" target=\"_parent\"><img src=\"https://colab.research.google.com/assets/colab-badge.svg\" alt=\"Open In Colab\"/></a>"
      ]
    },
    {
      "cell_type": "markdown",
      "id": "00288aa2",
      "metadata": {
        "id": "00288aa2"
      },
      "source": [
        "# Code Interpreter\n",
        "Beispiel für die Verwendung der OpenAI Assistant API und des Code Interpreter-Features.\n",
        "\n",
        "## Setup"
      ]
    },
    {
      "cell_type": "code",
      "execution_count": null,
      "id": "PLE_9DlFKRYS",
      "metadata": {
        "id": "PLE_9DlFKRYS"
      },
      "outputs": [],
      "source": [
        "!pip install openai==1.55.3 httpx==0.27.2 --force-reinstall --quiet"
      ]
    },
    {
      "cell_type": "code",
      "source": [
        "import os\n",
        "os.kill(os.getpid(), 9)"
      ],
      "metadata": {
        "id": "Y2qEoqtUMBKg"
      },
      "id": "Y2qEoqtUMBKg",
      "execution_count": null,
      "outputs": []
    },
    {
      "cell_type": "markdown",
      "id": "c5c50989",
      "metadata": {
        "id": "c5c50989"
      },
      "source": [
        "## Assistant erstellen"
      ]
    },
    {
      "cell_type": "code",
      "execution_count": 1,
      "id": "c3d286df",
      "metadata": {
        "id": "c3d286df"
      },
      "outputs": [],
      "source": [
        "import openai\n",
        "import os\n",
        "import time\n",
        "\n",
        "# OpenAI API Key aus Colab Secret auslesen und OpenAI Client erstellen\n",
        "from google.colab import userdata\n",
        "api_key = userdata.get('OPENAI_API_KEY')\n",
        "client = openai.OpenAI(api_key=api_key)\n",
        "\n",
        "assistant = client.beta.assistants.create(\n",
        "  name=\"Technical Assistant\",\n",
        "  instructions=\"You helps people with technical issues.\",\n",
        "  tools=[{\"type\": \"code_interpreter\"}],\n",
        "  model=\"gpt-4o\",\n",
        ")"
      ]
    },
    {
      "cell_type": "markdown",
      "id": "5c9ffeb6",
      "metadata": {
        "id": "5c9ffeb6"
      },
      "source": [
        "## Thread erstellen"
      ]
    },
    {
      "cell_type": "code",
      "execution_count": 2,
      "id": "85ee96d7",
      "metadata": {
        "id": "85ee96d7"
      },
      "outputs": [],
      "source": [
        "thread = client.beta.threads.create()"
      ]
    },
    {
      "cell_type": "markdown",
      "source": [
        "## Anweisung absetzen"
      ],
      "metadata": {
        "id": "rfZw2k33hKVl"
      },
      "id": "rfZw2k33hKVl"
    },
    {
      "cell_type": "code",
      "execution_count": 3,
      "id": "b2045959",
      "metadata": {
        "id": "b2045959"
      },
      "outputs": [],
      "source": [
        "message = client.beta.threads.messages.create(\n",
        "  thread_id=thread.id,\n",
        "  role=\"user\",\n",
        "  content=\"create a qr-code for 'www.neogeeks.de' and give it back to me.\"\n",
        ")"
      ]
    },
    {
      "cell_type": "markdown",
      "source": [
        "## Run und Event Handler erstellen"
      ],
      "metadata": {
        "id": "BE0pTJJqKEJn"
      },
      "id": "BE0pTJJqKEJn"
    },
    {
      "cell_type": "code",
      "source": [
        "from typing_extensions import override\n",
        "from openai import AssistantEventHandler\n",
        "\n",
        "class EventHandler(AssistantEventHandler):\n",
        "  @override\n",
        "  def on_text_created(self, text) -> None:\n",
        "    print(f\"\\nassistant > \", end=\"\", flush=True)\n",
        "\n",
        "  @override\n",
        "  def on_text_delta(self, delta, snapshot):\n",
        "    print(delta.value, end=\"\", flush=True)\n",
        "\n",
        "  def on_tool_call_created(self, tool_call):\n",
        "    print(f\"\\nassistant > {tool_call.type}\\n\", flush=True)\n",
        "\n",
        "  def on_tool_call_delta(self, delta, snapshot):\n",
        "    if delta.type == 'code_interpreter':\n",
        "      if delta.code_interpreter.input:\n",
        "        print(delta.code_interpreter.input, end=\"\", flush=True)\n",
        "      if delta.code_interpreter.outputs:\n",
        "        print(f\"\\n\\noutput >\", flush=True)\n",
        "        for output in delta.code_interpreter.outputs:\n",
        "          if output.type == \"logs\":\n",
        "            print(f\"\\n{output.logs}\", flush=True)\n",
        "\n",
        "\n",
        "with client.beta.threads.runs.stream(\n",
        "  thread_id=thread.id,\n",
        "  assistant_id=assistant.id,\n",
        "  event_handler=EventHandler(),\n",
        ") as stream:\n",
        "  stream.until_done()\n"
      ],
      "metadata": {
        "id": "YQ0a5YyNKJXt",
        "outputId": "f8310544-4d98-43af-8595-57cdd0c51ada",
        "colab": {
          "base_uri": "https://localhost:8080/"
        }
      },
      "id": "YQ0a5YyNKJXt",
      "execution_count": 4,
      "outputs": [
        {
          "output_type": "stream",
          "name": "stdout",
          "text": [
            "\n",
            "assistant > code_interpreter\n",
            "\n",
            "import qrcode\n",
            "\n",
            "# Create a QR code for the URL\n",
            "qr = qrcode.make('www.neogeeks.de')\n",
            "\n",
            "# Save the QR code to a file\n",
            "qr_path = '/mnt/data/neogeeks_qr.png'\n",
            "qr.save(qr_path)\n",
            "\n",
            "qr_path\n",
            "assistant > The QR code for the URL 'www.neogeeks.de' has been created. You can download it using the link below:\n",
            "\n",
            "[Download QR Code](sandbox:/mnt/data/neogeeks_qr.png)None"
          ]
        }
      ]
    },
    {
      "cell_type": "markdown",
      "source": [
        "##Mit Dateien arbeiten"
      ],
      "metadata": {
        "id": "hVJMyce36TzN"
      },
      "id": "hVJMyce36TzN"
    },
    {
      "cell_type": "code",
      "source": [
        "# Datei hochladen\n",
        "file_path = \"/content/Umsatz.csv\"  # Pfad zur hochzuladenden Datei\n",
        "with open(file_path, \"rb\") as file:\n",
        "    uploaded_file = client.files.create(file=file, purpose=\"assistants\")\n",
        "\n",
        "# Assistenten erstellen\n",
        "assistant = client.beta.assistants.create(\n",
        "    name=\"Data Analyst\",\n",
        "    instructions=\"Du bist ein Assistent, der Daten analysiert und bewertet.\",\n",
        "    tools=[{\"type\": \"code_interpreter\"}],\n",
        "    tool_resources={\n",
        "      \"code_interpreter\": {\n",
        "        \"file_ids\": [uploaded_file.id]\n",
        "      }\n",
        "    },\n",
        "    model=\"gpt-4-1106-preview\",\n",
        ")\n",
        "\n",
        "# Neuen Thread erstellen\n",
        "thread = client.beta.threads.create()\n",
        "\n",
        "# Benutzeranfrage mit Datei-ID hinzufügen\n",
        "message = client.beta.threads.messages.create(\n",
        "    thread_id=thread.id,\n",
        "    role=\"user\",\n",
        "    content=\"Bitte ermittle den durchschnittlichen Umsatz in der hochgeladenen Datei.\",\n",
        ")\n",
        "\n",
        "# Ausführung starten\n",
        "run = client.beta.threads.runs.create(thread_id=thread.id, assistant_id=assistant.id)\n",
        "\n",
        "# Auf Abschluss der Ausführung warten\n",
        "while run.status in [\"queued\", \"in_progress\"]:\n",
        "    time.sleep(1)\n",
        "    run = client.beta.threads.runs.retrieve(thread_id=thread.id, run_id=run.id)\n",
        "\n",
        "# Ergebnisse abrufen\n",
        "if run.status == \"completed\":\n",
        "    messages = client.beta.threads.messages.list(thread_id=thread.id)\n",
        "    for msg in messages.data:\n",
        "        if msg.role == \"assistant\":\n",
        "            for content in msg.content:\n",
        "                if content.type == \"text\":\n",
        "                    print(content.text.value)\n",
        "                elif content.type == \"code\":\n",
        "                    print(\"Generierter Code:\\n\", content.code.value)\n",
        "                elif content.type == \"image_file\":\n",
        "                    print(\"Generiertes Bild:\", content.image_file.file_id)\n",
        "else:\n",
        "    print(\"Die Ausführung ist fehlgeschlagen.\")\n"
      ],
      "metadata": {
        "id": "BVqgKc-XJHSw",
        "outputId": "8101a0a0-a1c0-4339-8e3b-b835ac0b4cfc",
        "colab": {
          "base_uri": "https://localhost:8080/"
        }
      },
      "id": "BVqgKc-XJHSw",
      "execution_count": 5,
      "outputs": [
        {
          "output_type": "stream",
          "name": "stdout",
          "text": [
            "Der durchschnittliche Umsatz in der hochgeladenen Datei beträgt 276.428,57 Euro.\n",
            "Die Daten scheinen in einem CSV-Format mit einem Semikolon (`;`) als Trennzeichen vorzuliegen. Ich werde nun die Daten mit dem korrekten Trennzeichen einlesen und den durchschnittlichen Umsatz berechnen. Zuerst muss ich jedoch das Euro-Zeichen (€) und eventuell vorhandene Tausender-Trennzeichen entfernen, damit wir die Umsatzwerte als Zahlen verarbeiten können.\n",
            "Um den durchschnittlichen Umsatz zu ermitteln, muss ich zunächst die hochgeladene Datei öffnen und deren Inhalt untersuchen. Ich werde die Datei laden und den Inhalt anzeigen, um festzustellen, wie die Daten strukturiert sind. Anschließend kann ich den durchschnittlichen Umsatz berechnen. Lassen Sie uns beginnen, indem wir einen Blick auf die Daten werfen.\n"
          ]
        }
      ]
    },
    {
      "cell_type": "markdown",
      "source": [
        "\n",
        "\n",
        "## OCR anwenden"
      ],
      "metadata": {
        "id": "KAV185c27vGT"
      },
      "id": "KAV185c27vGT"
    },
    {
      "cell_type": "code",
      "source": [
        "# Datei hochladen\n",
        "file_path = \"/content/R240004.png\"  # Pfad zur hochzuladenden Datei\n",
        "with open(file_path, \"rb\") as file:\n",
        "    invoice_file = client.files.create(file=file, purpose=\"assistants\")\n",
        "\n",
        "# Assistenten erstellen\n",
        "assistant = client.beta.assistants.create(\n",
        "    name=\"Data Analyst\",\n",
        "    instructions=\"Du bist ein Assistent, der Daten analysiert und bewertet.\",\n",
        "    tools=[{\"type\": \"code_interpreter\"}],\n",
        "    tool_resources={\n",
        "      \"code_interpreter\": {\n",
        "        \"file_ids\": [invoice_file.id]\n",
        "      }\n",
        "    },\n",
        "    model=\"gpt-4-1106-preview\",\n",
        ")\n",
        "\n",
        "# Neuen Thread erstellen\n",
        "thread = client.beta.threads.create()\n",
        "\n",
        "# Benutzeranfrage mit Datei-ID hinzufügen\n",
        "message = client.beta.threads.messages.create(\n",
        "    thread_id=thread.id,\n",
        "    role=\"user\",\n",
        "    content=\"Bitte ermittle die Rechnungsnummer in der hochgeladenen Datei und gib diese in JSON-Format zurück.\",\n",
        ")\n",
        "\n",
        "# Ausführung starten\n",
        "run = client.beta.threads.runs.create(thread_id=thread.id, assistant_id=assistant.id)\n",
        "\n",
        "# Auf Abschluss der Ausführung warten\n",
        "while run.status in [\"queued\", \"in_progress\"]:\n",
        "    time.sleep(1)\n",
        "    run = client.beta.threads.runs.retrieve(thread_id=thread.id, run_id=run.id)\n",
        "\n",
        "# Ergebnisse abrufen\n",
        "if run.status == \"completed\":\n",
        "    messages = client.beta.threads.messages.list(thread_id=thread.id)\n",
        "    for msg in messages.data:\n",
        "        if msg.role == \"assistant\":\n",
        "            for content in msg.content:\n",
        "                if content.type == \"text\":\n",
        "                    print(content.text.value)\n",
        "                elif content.type == \"code\":\n",
        "                    print(\"Generierter Code:\\n\", content.code.value)\n",
        "                elif content.type == \"image_file\":\n",
        "                    print(\"Generiertes Bild:\", content.image_file.file_id)\n",
        "else:\n",
        "    print(\"Die Ausführung ist fehlgeschlagen.\")"
      ],
      "metadata": {
        "id": "on0ABdvT4wQz",
        "outputId": "ef11cea3-df6d-4bda-8bb9-6a2f7a4299fd",
        "colab": {
          "base_uri": "https://localhost:8080/"
        }
      },
      "id": "on0ABdvT4wQz",
      "execution_count": 7,
      "outputs": [
        {
          "output_type": "stream",
          "name": "stdout",
          "text": [
            "Die Rechnungsnummer in der hochgeladenen Datei ist `R240004`. Hier ist die Information im JSON-Format:\n",
            "\n",
            "```json\n",
            "{\n",
            "    \"Rechnungsnummer\": \"R240004\"\n",
            "}\n",
            "```\n",
            "Der extrahierte Text zeigt, dass die Rechnungsnummer \"R240004\" ist. Ich werde diese Information nun im JSON-Format zurückgeben.\n",
            "Die Datei beginnt mit den Bytes `89 50 4E 47`, was ein typischer Header für eine PNG-Bilddatei ist. Um die Rechnungsnummer aus der Bilddatei zu extrahieren, können wir OCR (Optical Character Recognition) verwenden. Lass mich das Bild anzeigen und dann OCR verwenden, um den Text zu extrahieren und nach einer Rechnungsnummer zu suchen.\n",
            "Mein Fehler, ich habe die Variable `file_path` nicht korrekt definiert. Ich werde es erneut versuchen, diesmal mit dem korrekten Dateipfad.\n",
            "Es scheint, als wäre das 'magic'-Modul, das ich nutzen wollte, um den Dateityp zu bestimmen, in dieser Umgebung nicht verfügbar. Stattdessen werde ich versuchen, den Dateityp anhand der Dateierweiterung und des Inhalts zu ermitteln. Ich werde die Datei öffnen und versuchen, ihren Inhalt anzuzeigen, um zu sehen, ob wir daraus Informationen über die Rechnungsnummer extrahieren können.\n",
            "Zuerst muss ich die hochgeladene Datei überprüfen, um festzustellen, welchen Inhalt und welches Format sie hat. Wenn es sich um eine Textdatei, ein PDF oder ein Bild handelt, könnte ich nach einem Muster suchen, das einer Rechnungsnummer entspricht. Ich werde die Datei nun öffnen, um ihren Inhalt zu analysieren.\n"
          ]
        }
      ]
    }
  ],
  "metadata": {
    "colab": {
      "provenance": [],
      "include_colab_link": true
    },
    "kernelspec": {
      "display_name": "Python 3 (ipykernel)",
      "language": "python",
      "name": "python3"
    },
    "language_info": {
      "codemirror_mode": {
        "name": "ipython",
        "version": 3
      },
      "file_extension": ".py",
      "mimetype": "text/x-python",
      "name": "python",
      "nbconvert_exporter": "python",
      "pygments_lexer": "ipython3",
      "version": "3.12.2"
    }
  },
  "nbformat": 4,
  "nbformat_minor": 5
}