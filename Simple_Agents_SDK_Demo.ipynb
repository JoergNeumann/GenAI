{
  "nbformat": 4,
  "nbformat_minor": 0,
  "metadata": {
    "colab": {
      "provenance": [],
      "authorship_tag": "ABX9TyMjDbwqIOqHcMzpiR5mw0Qo",
      "include_colab_link": true
    },
    "kernelspec": {
      "name": "python3",
      "display_name": "Python 3"
    },
    "language_info": {
      "name": "python"
    }
  },
  "cells": [
    {
      "cell_type": "markdown",
      "metadata": {
        "id": "view-in-github",
        "colab_type": "text"
      },
      "source": [
        "<a href=\"https://colab.research.google.com/github/JoergNeumann/GenAI/blob/main/Simple_Agents_SDK_Demo.ipynb\" target=\"_parent\"><img src=\"https://colab.research.google.com/assets/colab-badge.svg\" alt=\"Open In Colab\"/></a>"
      ]
    },
    {
      "cell_type": "markdown",
      "source": [
        "# Einfache Agents SDK Demo"
      ],
      "metadata": {
        "id": "wQrp8SotDD3q"
      }
    },
    {
      "cell_type": "code",
      "execution_count": 1,
      "metadata": {
        "colab": {
          "base_uri": "https://localhost:8080/"
        },
        "id": "jjbMilo_-kC7",
        "outputId": "3cc5447d-3e1b-4ef0-e905-3cc6c68d5546"
      },
      "outputs": [
        {
          "output_type": "stream",
          "name": "stdout",
          "text": [
            "\u001b[?25l   \u001b[90m━━━━━━━━━━━━━━━━━━━━━━━━━━━━━━━━━━━━━━━━\u001b[0m \u001b[32m0.0/75.5 kB\u001b[0m \u001b[31m?\u001b[0m eta \u001b[36m-:--:--\u001b[0m\r\u001b[2K   \u001b[90m━━━━━━━━━━━━━━━━━━━━━━━━━━━━━━━━━━━━━━━━\u001b[0m \u001b[32m75.5/75.5 kB\u001b[0m \u001b[31m3.0 MB/s\u001b[0m eta \u001b[36m0:00:00\u001b[0m\n",
            "\u001b[?25h\u001b[?25l   \u001b[90m━━━━━━━━━━━━━━━━━━━━━━━━━━━━━━━━━━━━━━━━\u001b[0m \u001b[32m0.0/144.4 kB\u001b[0m \u001b[31m?\u001b[0m eta \u001b[36m-:--:--\u001b[0m\r\u001b[2K   \u001b[90m━━━━━━━━━━━━━━━━━━━━━━━━━━━━━━━━━━━━━━━━\u001b[0m \u001b[32m144.4/144.4 kB\u001b[0m \u001b[31m7.5 MB/s\u001b[0m eta \u001b[36m0:00:00\u001b[0m\n",
            "\u001b[?25h"
          ]
        }
      ],
      "source": [
        "!pip install -qU openai-agents==0.0.3"
      ]
    },
    {
      "cell_type": "code",
      "source": [
        "import os\n",
        "import json\n",
        "from agents import Agent, Runner, function_tool, set_tracing_export_api_key\n",
        "\n",
        "# Parameter\n",
        "buchungsart = \"Reisekosten\" # Tankkosten, Spesen\n",
        "betrag = 122.00\n",
        "\n",
        "# OpenAI API Key aus Colab Secret auslesen\n",
        "from google.colab import userdata\n",
        "os.environ[\"OPENAI_API_KEY\"] = userdata.get('OPENAI_API_KEY')\n",
        "\n",
        "set_tracing_export_api_key(os.environ.get('OPENAI_API_KEY'))\n",
        "\n",
        "# Funktionen definieren\n",
        "@function_tool\n",
        "def record_travel_costs(amount: float):\n",
        "    return \"Reisekosten wurden verbucht.\"\n",
        "\n",
        "@function_tool\n",
        "def record_fuel_costs(amount: float):\n",
        "    return \"Tankkosten wurden verbucht.\"\n",
        "\n",
        "@function_tool\n",
        "def record_expenses(amount: float):\n",
        "    return \"Spesen wurden verbucht.\"\n",
        "\n",
        "# Agents definieren\n",
        "travel_cost_agent = Agent(\n",
        "    name=\"Travel Cost Agent\",\n",
        "    instructions=\"Du bist ein Buchhalter und bearbeitest Reisekosten. Nutze dafür die bereitgestellten Tool.\",\n",
        "    tools=[record_travel_costs],\n",
        ")\n",
        "fuel_cost_agent = Agent(\n",
        "    name=\"Fuel Cost Agent\",\n",
        "    instructions=\"Du bist ein Buchhalter und bearbeitest Tankkosten. Nutze dafür die bereitgestellten Tool.\",\n",
        "    tools=[record_fuel_costs],\n",
        ")\n",
        "expenses_agent = Agent(\n",
        "    name=\"Expenses Agent\",\n",
        "    instructions=\"Du bist ein Buchhalter und bearbeitest Spesenrechnungen. Nutze dafür die bereitgestellten Tool.\",\n",
        "    tools=[record_expenses],\n",
        ")\n",
        "\n",
        "# Triage Agent konfigurieren\n",
        "triage_agent = Agent(\n",
        "    name=\"Triage Agent\",\n",
        "    instructions=\"Du routest den Benutzer zu einem passenden Agent. Stelle bitte keine Rückfragen an den Benutzer.\",\n",
        "    handoffs=[fuel_cost_agent, travel_cost_agent, expenses_agent]\n",
        ")\n",
        "\n",
        "# Prompt zusammenbauen\n",
        "user_query = f\"Verbuche bitte meine {buchungsart} von €{betrag:.2f}.\"\n",
        "print(\"User:\", user_query)\n",
        "\n",
        "# Agents ausführen\n",
        "result = await Runner.run(\n",
        "    starting_agent=triage_agent,\n",
        "    input=user_query#\"Stelle ein einfaches Mittagsmenü zusammen.\"\n",
        ")\n",
        "output = result.final_output\n",
        "\n",
        "print(output)\n"
      ],
      "metadata": {
        "colab": {
          "base_uri": "https://localhost:8080/"
        },
        "id": "E4aDV4cG-p4v",
        "outputId": "df00133b-4619-4d5d-976d-fff9262d641a"
      },
      "execution_count": 15,
      "outputs": [
        {
          "output_type": "stream",
          "name": "stdout",
          "text": [
            "User: Verbuche bitte meine Reisekosten von €122.00.\n",
            "Deine Reisekosten von €122.00 wurden erfolgreich verbucht.\n"
          ]
        }
      ]
    }
  ]
}