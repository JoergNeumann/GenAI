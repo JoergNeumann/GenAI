{
  "cells": [
    {
      "cell_type": "markdown",
      "metadata": {
        "id": "view-in-github",
        "colab_type": "text"
      },
      "source": [
        "<a href=\"https://colab.research.google.com/github/JoergNeumann/GenAI/blob/main/File_Search.ipynb\" target=\"_parent\"><img src=\"https://colab.research.google.com/assets/colab-badge.svg\" alt=\"Open In Colab\"/></a>"
      ]
    },
    {
      "cell_type": "markdown",
      "id": "00288aa2",
      "metadata": {
        "id": "00288aa2"
      },
      "source": [
        "# File Search Demo\n",
        "Beispiel für die Verwendung der OpenAI Assistant API und des File Search-Features.\n",
        "\n",
        "## Setup"
      ]
    },
    {
      "cell_type": "code",
      "execution_count": null,
      "id": "PLE_9DlFKRYS",
      "metadata": {
        "id": "PLE_9DlFKRYS"
      },
      "outputs": [],
      "source": [
        "!pip install openai==1.55.3 httpx==0.27.2 --force-reinstall --quiet"
      ]
    },
    {
      "cell_type": "code",
      "source": [
        "import os\n",
        "os.kill(os.getpid(), 9)"
      ],
      "metadata": {
        "id": "csr-VvJXerrL"
      },
      "id": "csr-VvJXerrL",
      "execution_count": null,
      "outputs": []
    },
    {
      "cell_type": "markdown",
      "id": "c5c50989",
      "metadata": {
        "id": "c5c50989"
      },
      "source": [
        "## API konfigurieren"
      ]
    },
    {
      "cell_type": "code",
      "execution_count": null,
      "id": "c3d286df",
      "metadata": {
        "id": "c3d286df"
      },
      "outputs": [],
      "source": [
        "import openai\n",
        "import os\n",
        "import time\n",
        "\n",
        "# OpenAI API Key aus Colab Secret auslesen und OpenAI Client erstellen\n",
        "from google.colab import userdata\n",
        "api_key = userdata.get('OPENAI_API_KEY')\n",
        "client = openai.OpenAI(api_key=api_key)"
      ]
    },
    {
      "cell_type": "markdown",
      "id": "e3d30717",
      "metadata": {
        "id": "e3d30717"
      },
      "source": [
        "## Datei hochladen"
      ]
    },
    {
      "cell_type": "code",
      "execution_count": null,
      "id": "9d55266e",
      "metadata": {
        "id": "9d55266e"
      },
      "outputs": [],
      "source": [
        "# Erstellen eines Vector Stores\n",
        "vector_store = client.beta.vector_stores.create(name=\"NeoGeeksVectorStore\")\n",
        "\n",
        "# Pfade zu den Dateien, die hochgeladen werden sollen\n",
        "dateipfade = [\"/content/NeoGeeksAGB.pdf\", \"NeoGeeksAGB.pdf\"]\n",
        "\n",
        "# Hochladen der Dateien\n",
        "dateien = [open(dateipfad, \"rb\") for dateipfad in dateipfade]\n",
        "file_batch = client.beta.vector_stores.file_batches.upload_and_poll(\n",
        "    vector_store_id=vector_store.id,\n",
        "    files=dateien\n",
        ")"
      ]
    },
    {
      "cell_type": "markdown",
      "id": "88a389d3",
      "metadata": {
        "id": "88a389d3"
      },
      "source": [
        "## Assistant erstellen"
      ]
    },
    {
      "cell_type": "code",
      "execution_count": null,
      "id": "fb4dbafc",
      "metadata": {
        "id": "fb4dbafc"
      },
      "outputs": [],
      "source": [
        "assistant = client.beta.assistants.create(\n",
        "    name=\"AGB Assistant\",\n",
        "    instructions=\"Du bist ein Assistant, der Rechtsfragen basierend auf dem bereitgestellten Dokument beantwortet.\",\n",
        "    model=\"gpt-4-turbo\",\n",
        "    tools=[{\"type\": \"file_search\"}],\n",
        "    tool_resources={\"file_search\": {\"vector_store_ids\": [vector_store.id]}}\n",
        ")"
      ]
    },
    {
      "cell_type": "markdown",
      "id": "5c9ffeb6",
      "metadata": {
        "id": "5c9ffeb6"
      },
      "source": [
        "## Thread erstellen"
      ]
    },
    {
      "cell_type": "code",
      "execution_count": null,
      "id": "85ee96d7",
      "metadata": {
        "id": "85ee96d7"
      },
      "outputs": [],
      "source": [
        "thread = client.beta.threads.create()"
      ]
    },
    {
      "cell_type": "markdown",
      "id": "rfZw2k33hKVl",
      "metadata": {
        "id": "rfZw2k33hKVl"
      },
      "source": [
        "## Anweisung absetzen"
      ]
    },
    {
      "cell_type": "code",
      "execution_count": null,
      "id": "b2045959",
      "metadata": {
        "id": "b2045959"
      },
      "outputs": [],
      "source": [
        "message = client.beta.threads.messages.create(\n",
        "    thread_id=thread.id,\n",
        "    role=\"user\",\n",
        "    content=\"Wie hoch ist das Zahlungsziel von NeoGeeks?\"\n",
        ")"
      ]
    },
    {
      "cell_type": "markdown",
      "id": "BE0pTJJqKEJn",
      "metadata": {
        "id": "BE0pTJJqKEJn"
      },
      "source": [
        "## Run erstellen, ausführen und Ergebnis ausgeben"
      ]
    },
    {
      "cell_type": "code",
      "execution_count": null,
      "id": "YQ0a5YyNKJXt",
      "metadata": {
        "id": "YQ0a5YyNKJXt"
      },
      "outputs": [],
      "source": [
        "run = client.beta.threads.runs.create_and_poll(\n",
        "    thread_id=thread.id,\n",
        "    assistant_id=assistant.id\n",
        ")\n",
        "\n",
        "# Abrufen der Antwortnachrichten\n",
        "messages = client.beta.threads.messages.list(thread.id)\n",
        "for msg in messages.data:\n",
        "    if msg.role == \"assistant\":\n",
        "        print(\"Assistant:\", msg.content[0].text.value)"
      ]
    }
  ],
  "metadata": {
    "colab": {
      "provenance": [],
      "include_colab_link": true
    },
    "kernelspec": {
      "display_name": "Python 3 (ipykernel)",
      "language": "python",
      "name": "python3"
    },
    "language_info": {
      "codemirror_mode": {
        "name": "ipython",
        "version": 3
      },
      "file_extension": ".py",
      "mimetype": "text/x-python",
      "name": "python",
      "nbconvert_exporter": "python",
      "pygments_lexer": "ipython3",
      "version": "3.12.2"
    }
  },
  "nbformat": 4,
  "nbformat_minor": 5
}