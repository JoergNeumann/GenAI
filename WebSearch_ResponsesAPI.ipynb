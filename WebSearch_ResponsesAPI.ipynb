{
  "nbformat": 4,
  "nbformat_minor": 0,
  "metadata": {
    "colab": {
      "provenance": [],
      "authorship_tag": "ABX9TyNy9+q166qQB2ySkZvmnSc3",
      "include_colab_link": true
    },
    "kernelspec": {
      "name": "python3",
      "display_name": "Python 3"
    },
    "language_info": {
      "name": "python"
    }
  },
  "cells": [
    {
      "cell_type": "markdown",
      "metadata": {
        "id": "view-in-github",
        "colab_type": "text"
      },
      "source": [
        "<a href=\"https://colab.research.google.com/github/JoergNeumann/GenAI/blob/main/WebSearch_ResponsesAPI.ipynb\" target=\"_parent\"><img src=\"https://colab.research.google.com/assets/colab-badge.svg\" alt=\"Open In Colab\"/></a>"
      ]
    },
    {
      "cell_type": "markdown",
      "source": [
        "#Web Search\n",
        "Demonstriert die Verwendung des Web Search Tools mit der Responses API."
      ],
      "metadata": {
        "id": "_nr81BIysfJ0"
      }
    },
    {
      "cell_type": "markdown",
      "source": [
        "#Setup"
      ],
      "metadata": {
        "id": "0IBwAqGRu9iy"
      }
    },
    {
      "cell_type": "code",
      "source": [
        "!pip install -qU openai==1.52.2"
      ],
      "metadata": {
        "colab": {
          "base_uri": "https://localhost:8080/"
        },
        "id": "sS0xTcigu_Ak",
        "outputId": "ec2407f4-1174-4d2d-c375-546fdf09d9ce"
      },
      "execution_count": 3,
      "outputs": [
        {
          "output_type": "stream",
          "name": "stdout",
          "text": [
            "\u001b[?25l   \u001b[90m━━━━━━━━━━━━━━━━━━━━━━━━━━━━━━━━━━━━━━━━\u001b[0m \u001b[32m0.0/386.9 kB\u001b[0m \u001b[31m?\u001b[0m eta \u001b[36m-:--:--\u001b[0m\r\u001b[2K   \u001b[91m━━━━━━━━━━━━━━━━━━━━\u001b[0m\u001b[90m╺\u001b[0m\u001b[90m━━━━━━━━━━━━━━━━━━━\u001b[0m \u001b[32m194.6/386.9 kB\u001b[0m \u001b[31m5.6 MB/s\u001b[0m eta \u001b[36m0:00:01\u001b[0m\r\u001b[2K   \u001b[90m━━━━━━━━━━━━━━━━━━━━━━━━━━━━━━━━━━━━━━━━\u001b[0m \u001b[32m386.9/386.9 kB\u001b[0m \u001b[31m6.4 MB/s\u001b[0m eta \u001b[36m0:00:00\u001b[0m\n",
            "\u001b[?25h"
          ]
        }
      ]
    },
    {
      "cell_type": "code",
      "execution_count": 4,
      "metadata": {
        "id": "SbX5NeOisdp6"
      },
      "outputs": [],
      "source": [
        "import os\n",
        "from openai import OpenAI\n",
        "\n",
        "from google.colab import userdata\n",
        "api_key = userdata.get('OPENAI_API_KEY')\n",
        "\n",
        "client = OpenAI(api_key=api_key)"
      ]
    },
    {
      "cell_type": "markdown",
      "source": [
        "#Abfrage absetzen\n",
        "Hierbei wird das Tool \"web_search_preview\" zugewiesen."
      ],
      "metadata": {
        "id": "vSoSVPJstUYa"
      }
    },
    {
      "cell_type": "code",
      "source": [
        "response = client.responses.create(\n",
        "    model=\"gpt-4.1\",\n",
        "    tools=[{\"type\": \"web_search_preview\"}],\n",
        "    input=\"Was sind die aktuellen U.S. Importzölle auf chinesische Waren?\"\n",
        ")\n",
        "print(response.output_text)"
      ],
      "metadata": {
        "id": "b64JzWv6td-w",
        "colab": {
          "base_uri": "https://localhost:8080/"
        },
        "outputId": "e4415573-7897-4bf3-8114-ba7695538ebb"
      },
      "execution_count": 5,
      "outputs": [
        {
          "output_type": "stream",
          "name": "stdout",
          "text": [
            "Die Vereinigten Staaten haben in den letzten Jahren eine Reihe von Importzöllen auf chinesische Waren eingeführt und erhöht, um die heimische Industrie zu schützen und auf als unfair empfundene Handelspraktiken Chinas zu reagieren. Diese Zölle variieren je nach Produktkategorie und wurden schrittweise eingeführt.\n",
            "\n",
            "**Allgemeine Zölle:**\n",
            "\n",
            "- **Februar 2025:** Die USA führten einen pauschalen Importzoll von 10 % auf alle Waren mit Ursprung in China und Hongkong ein. \n",
            "\n",
            "- **März 2025:** Dieser Zollsatz wurde auf 20 % erhöht. \n",
            "\n",
            "**Spezifische Produktkategorien:**\n",
            "\n",
            "- **Elektrofahrzeuge (EVs):** Der Zollsatz wurde von 25 % auf 100 % erhöht. \n",
            "\n",
            "- **Halbleiter:** Der Zollsatz wurde von 25 % auf 50 % erhöht. \n",
            "\n",
            "- **Solarzellen:** Der Zollsatz wurde von 25 % auf 50 % erhöht. \n",
            "\n",
            "- **Stahl und Aluminium:** Der Zollsatz wurde von 0–7,5 % auf 25 % erhöht. \n",
            "\n",
            "- **Lithium-Ionen-Batterien für Elektrofahrzeuge:** Der Zollsatz wurde von 7,5 % auf 25 % erhöht. \n",
            "\n",
            "- **Bestimmte kritische Mineralien:** Ein neuer Zollsatz von 25 % wurde eingeführt. \n",
            "\n",
            "Diese Zollerhöhungen traten größtenteils im Jahr 2024 in Kraft, wobei einige für 2025 und 2026 geplant sind. Es ist wichtig zu beachten, dass die genauen Zollsätze je nach spezifischem Produkt und dessen Klassifizierung variieren können. Für detaillierte und aktuelle Informationen empfiehlt es sich, die offiziellen Mitteilungen des US-Handelsbeauftragten oder der US-Zollbehörde zu konsultieren. \n"
          ]
        }
      ]
    }
  ]
}