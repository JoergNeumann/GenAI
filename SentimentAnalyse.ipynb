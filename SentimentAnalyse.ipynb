{
  "cells": [
    {
      "cell_type": "markdown",
      "id": "00288aa2",
      "metadata": {
        "id": "00288aa2"
      },
      "source": [
        "# Sentiment-Analyse\n",
        "In dieser Lektion werden Sie die Stimmung und Themen aus Produktbewertungen und Nachrichtenartikeln ableiten.\n",
        "\n",
        "## Setup"
      ]
    },
    {
      "cell_type": "code",
      "source": [
        "!pip install -qU openai==1.6.1"
      ],
      "metadata": {
        "id": "PLE_9DlFKRYS"
      },
      "id": "PLE_9DlFKRYS",
      "execution_count": null,
      "outputs": []
    },
    {
      "cell_type": "code",
      "execution_count": 1,
      "id": "8e99e057",
      "metadata": {
        "id": "8e99e057"
      },
      "outputs": [],
      "source": [
        "import os\n",
        "import openai\n",
        "\n",
        "# OpenAI API Key aus Colab Secret auslesen\n",
        "from google.colab import userdata\n",
        "openai.api_key = userdata.get('OPENAI_API_KEY')"
      ]
    },
    {
      "cell_type": "code",
      "execution_count": null,
      "id": "b2045959",
      "metadata": {
        "id": "b2045959"
      },
      "outputs": [],
      "source": [
        "def get_completion(prompt, model=\"gpt-3.5-turbo\"):\n",
        "    messages = [{\"role\": \"user\", \"content\": prompt}]\n",
        "    response = openai.chat.completions.create(\n",
        "        model=model,\n",
        "        messages=messages,\n",
        "        temperature=0,\n",
        "    )\n",
        "    return response.choices[0].message.content"
      ]
    },
    {
      "cell_type": "markdown",
      "id": "e5d7a169",
      "metadata": {
        "id": "e5d7a169"
      },
      "source": [
        "## Produktbewertung"
      ]
    },
    {
      "cell_type": "code",
      "execution_count": null,
      "id": "4044b67b",
      "metadata": {
        "id": "4044b67b"
      },
      "outputs": [],
      "source": [
        "lamp_review = \"\"\"\n",
        "Ich brauchte eine schöne Lampe für mein Schlafzimmer, und diese hier hatte \\\n",
        "zusätzlichen Stauraum und keinen allzu hohen Preis. Die Lieferung war super \\\n",
        "schnell. Leider ist die Halterung der Lampe während des Transports kaputt gegangen, \\\n",
        "aber der Kundenservice des Unternehmens hat mir glücklicherweise und ohne Probleme \\\n",
        "eine neue geschickt. Diese kam auch innerhalb weniger Tage an. Der Zusammenbau war \\\n",
        "einfach. Mir fehlte zwar ein Teil, aber der Kundendienst hat mir das fehlende Teil \\\n",
        "sehr schnell besorgt! Lumina scheint mir ein tolles Unternehmen zu sein, das sich \\\n",
        "um seine Kunden und Produkte kümmert!\n",
        "\"\"\""
      ]
    },
    {
      "cell_type": "markdown",
      "id": "bb7a3b5a",
      "metadata": {
        "id": "bb7a3b5a"
      },
      "source": [
        "## Sentiment erkennen (positiv/negativ)"
      ]
    },
    {
      "cell_type": "code",
      "execution_count": null,
      "id": "fafe8fbf",
      "metadata": {
        "id": "fafe8fbf"
      },
      "outputs": [],
      "source": [
        "prompt = f\"\"\"\n",
        "Was ist die Gesamtaussage der folgenden Produktbewertung, die mit drei Backticks gekennzeichnet ist?\n",
        "\n",
        "Review-Text: '''{lamp_review}'''\n",
        "\"\"\"\n",
        "response = get_completion(prompt)\n",
        "print(response)"
      ]
    },
    {
      "cell_type": "code",
      "execution_count": null,
      "id": "92957be9",
      "metadata": {
        "id": "92957be9"
      },
      "outputs": [],
      "source": [
        "prompt = f\"\"\"\n",
        "Welches Sentiment vermittelt die folgende Produktbewertung, die mit drei Backticks gekennzeichnet ist?\n",
        "\n",
        "Gib die Antwort in einem Wort, entweder \"positiv\" oder \"negativ\".\n",
        "\n",
        "Review-Text: '''{lamp_review}'''\n",
        "\"\"\"\n",
        "response = get_completion(prompt)\n",
        "print(response)"
      ]
    },
    {
      "cell_type": "markdown",
      "id": "db0f2297",
      "metadata": {
        "id": "db0f2297"
      },
      "source": [
        "## Emotionen erkennen"
      ]
    },
    {
      "cell_type": "code",
      "execution_count": null,
      "id": "d95c4021",
      "metadata": {
        "id": "d95c4021"
      },
      "outputs": [],
      "source": [
        "prompt = f\"\"\"\n",
        "Identifiziere eine Liste von Emotionen, die der Verfasser der folgenden \\\n",
        "Bewertung ausdrückt. Beschränke dich dabei auf maximal fünf Begriffe. \\\n",
        "Formatiere deine Antwort als kommagetrennte Liste von kleingeschriebenen Wörtern.\n",
        "\n",
        "Review-Text: '''{lamp_review}'''\n",
        "\"\"\"\n",
        "response = get_completion(prompt)\n",
        "print(response)"
      ]
    },
    {
      "cell_type": "markdown",
      "id": "834a72f6",
      "metadata": {
        "id": "834a72f6"
      },
      "source": [
        "## Ärger erkennen"
      ]
    },
    {
      "cell_type": "code",
      "execution_count": null,
      "id": "65dcfcca",
      "metadata": {
        "id": "65dcfcca"
      },
      "outputs": [],
      "source": [
        "prompt = f\"\"\"\n",
        "Ist der Verfasser der folgenden Bewertung wütend? Die Bewertung ist mit drei Backticks gekennzeichnet.\n",
        "Gib deine Antwort mit Ja oder Nein.\n",
        "\n",
        "Review-Text: '''{lamp_review}'''\n",
        "\"\"\"\n",
        "response = get_completion(prompt)\n",
        "print(response)"
      ]
    },
    {
      "cell_type": "markdown",
      "id": "412f7aac",
      "metadata": {
        "id": "412f7aac"
      },
      "source": [
        "## Produkte und Firmennamen aus Kundenbewertungen extrahieren"
      ]
    },
    {
      "cell_type": "code",
      "execution_count": null,
      "id": "20f73984",
      "metadata": {
        "id": "20f73984"
      },
      "outputs": [],
      "source": [
        "prompt = f\"\"\"\n",
        "Finde im folgenden Bewertungstext folgende Informationen:\n",
        "- Gekauftes Produkt\n",
        "- Hersteller des Produkts\n",
        "Der Text ist mit drei Backticks (```) abgegrenzt.\n",
        "\n",
        "Gib die Antwort als JSON-Objekt mit den Schlüsseln 'Item' und 'Brand' \\\n",
        "zurück. Verwende für fehlende Informationen 'unbekannt'.\n",
        "\n",
        "Die Antwort soll so kurz wie möglich sein.\n",
        "\n",
        "Review-Text: '''{lamp_review}'''\n",
        "\"\"\"\n",
        "response = get_completion(prompt)\n",
        "print(response)"
      ]
    },
    {
      "cell_type": "markdown",
      "id": "0451ec2d",
      "metadata": {
        "id": "0451ec2d"
      },
      "source": [
        "## Mehrere Aufgaben gleichzeitig erledigen"
      ]
    },
    {
      "cell_type": "code",
      "execution_count": null,
      "id": "830f6726",
      "metadata": {
        "id": "830f6726"
      },
      "outputs": [],
      "source": [
        "prompt = f\"\"\"\n",
        "Identifizieren Sie die folgenden Punkte aus dem Rezensionstext:\n",
        "- Stimmung (positiv oder negativ)\n",
        "- Drückt der Rezensent Ärger aus? (wahr oder falsch)\n",
        "- Vom Rezensenten gekauftes Produkt\n",
        "- Firma, die das Produkt hergestellt hat\n",
        "\n",
        "Die Rezension ist mit dreifachen Backticks begrenzt. \\\n",
        "Formatieren Sie Ihre Antwort als JSON-Objekt mit \\\n",
        "\"Sentiment\", \"Anger\", \"Item\" und \"Brand\" als Schlüssel.\n",
        "Wenn die Information nicht vorhanden ist, verwenden Sie \"unknown\" \\\n",
        "als Wert.\n",
        "Halten Sie Ihre Antwort so kurz wie möglich.\n",
        "Formatieren Sie den Anger-Wert als booleschen Wert.\n",
        "\n",
        "Rezensionstext: '''{lamp_review}'''\n",
        "\"\"\"\n",
        "response = get_completion(prompt)\n",
        "print(response)"
      ]
    },
    {
      "cell_type": "markdown",
      "id": "a5fee5d8",
      "metadata": {
        "id": "a5fee5d8"
      },
      "source": [
        "## Themen identifizieren"
      ]
    },
    {
      "cell_type": "code",
      "execution_count": null,
      "id": "090f8db8",
      "metadata": {
        "id": "090f8db8"
      },
      "outputs": [],
      "source": [
        "story = \"\"\"\n",
        "Bei einer kürzlich von der Regierung durchgeführten Umfrage wurden Beschäftigte \\\n",
        "des öffentlichen Dienstes gebeten, ihre Zufriedenheit mit der Behörde, in der sie \\\n",
        "arbeiten, zu bewerten. Die Ergebnisse zeigten, dass die NASA mit einer Zufriedenheitsrate \\\n",
        "von 95 % die beliebteste Behörde war.\n",
        "Ein NASA-Mitarbeiter, John Smith, kommentierte die Ergebnisse mit den Worten: \"Es überrascht \\\n",
        "mich nicht, dass die NASA ganz oben steht. Es ist ein großartiger Arbeitsplatz mit tollen \\\n",
        "Kollegen und unglaublichen Möglichkeiten. Ich bin stolz darauf, Teil einer so innovativen Organisation zu sein.\"\n",
        "Die Ergebnisse wurden auch vom NASA-Managementteam begrüßt. Direktor Tom Johnson erklärte: \\\n",
        "\"Wir freuen uns sehr zu hören, dass unsere Mitarbeiter mit ihrer Arbeit bei der NASA \\\n",
        "zufrieden sind. Wir haben ein talentiertes und engagiertes Team, das unermüdlich an der \\\n",
        "Erreichung unserer Ziele arbeitet, und es ist fantastisch zu sehen, dass sich die harte Arbeit auszahlt.\"\n",
        "Die Umfrage ergab außerdem, dass die Sozialversicherungsbehörde die niedrigste Zufriedenheitsrate \\\n",
        "aufweist. Nur 45 % der Mitarbeiter gaben an, mit ihrem Arbeitsplatz zufrieden zu sein. Die Regierung \\\n",
        "hat zugesagt, die von den Mitarbeitern in der Umfrage geäußerten Bedenken anzugehen und daran zu arbeiten, \\\n",
        "die Zufriedenheit mit dem Arbeitsplatz in allen Abteilungen zu verbessern.\n",
        "\"\"\""
      ]
    },
    {
      "cell_type": "markdown",
      "id": "ef39d225",
      "metadata": {
        "id": "ef39d225"
      },
      "source": [
        "## 5 Themen identifizieren"
      ]
    },
    {
      "cell_type": "code",
      "execution_count": null,
      "id": "bc0940df",
      "metadata": {
        "id": "bc0940df"
      },
      "outputs": [],
      "source": [
        "prompt = f\"\"\"\n",
        "Finde fünf Themen, die in folgendem Text diskutiert werden:\n",
        "Der Text ist mit drei Backticks abgegrenzt.\n",
        "Schreibe jedes Thema als ein oder zwei Wörter.\n",
        "\n",
        "Formatiere deine Antwort als Kommagetrennte Liste.\n",
        "\n",
        "Text-Beispiel: '''{story}'''\n",
        "\"\"\"\n",
        "response = get_completion(prompt)\n",
        "print(response)"
      ]
    },
    {
      "cell_type": "code",
      "execution_count": null,
      "id": "d5dff56a",
      "metadata": {
        "id": "d5dff56a"
      },
      "outputs": [],
      "source": [
        "response.split(sep=',')"
      ]
    }
  ],
  "metadata": {
    "kernelspec": {
      "display_name": "Python 3 (ipykernel)",
      "language": "python",
      "name": "python3"
    },
    "language_info": {
      "codemirror_mode": {
        "name": "ipython",
        "version": 3
      },
      "file_extension": ".py",
      "mimetype": "text/x-python",
      "name": "python",
      "nbconvert_exporter": "python",
      "pygments_lexer": "ipython3",
      "version": "3.12.2"
    },
    "colab": {
      "provenance": []
    }
  },
  "nbformat": 4,
  "nbformat_minor": 5
}