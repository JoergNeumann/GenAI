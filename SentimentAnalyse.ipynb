{
  "cells": [
    {
      "cell_type": "markdown",
      "metadata": {
        "id": "view-in-github",
        "colab_type": "text"
      },
      "source": [
        "<a href=\"https://colab.research.google.com/github/JoergNeumann/GenAI/blob/main/SentimentAnalyse.ipynb\" target=\"_parent\"><img src=\"https://colab.research.google.com/assets/colab-badge.svg\" alt=\"Open In Colab\"/></a>"
      ]
    },
    {
      "cell_type": "markdown",
      "id": "00288aa2",
      "metadata": {
        "id": "00288aa2"
      },
      "source": [
        "# Sentiment-Analyse\n",
        "In dieser Lektion werden Sie die Stimmung und Themen aus Produktbewertungen und Nachrichtenartikeln ableiten.\n",
        "\n",
        "## Setup"
      ]
    },
    {
      "cell_type": "code",
      "source": [
        "!pip install openai==1.55.3 httpx==0.27.2 --force-reinstall --quiet"
      ],
      "metadata": {
        "id": "PLE_9DlFKRYS"
      },
      "id": "PLE_9DlFKRYS",
      "execution_count": null,
      "outputs": []
    },
    {
      "cell_type": "code",
      "source": [
        "import os\n",
        "os.kill(os.getpid(), 9)"
      ],
      "metadata": {
        "id": "gmoQWWENgBLq"
      },
      "id": "gmoQWWENgBLq",
      "execution_count": null,
      "outputs": []
    },
    {
      "cell_type": "code",
      "execution_count": 1,
      "id": "8e99e057",
      "metadata": {
        "id": "8e99e057"
      },
      "outputs": [],
      "source": [
        "import os\n",
        "import openai\n",
        "\n",
        "# OpenAI API Key aus Colab Secret auslesen\n",
        "from google.colab import userdata\n",
        "openai.api_key = userdata.get('OPENAI_API_KEY')"
      ]
    },
    {
      "cell_type": "code",
      "execution_count": 2,
      "id": "b2045959",
      "metadata": {
        "id": "b2045959"
      },
      "outputs": [],
      "source": [
        "def get_completion(prompt, model=\"gpt-3.5-turbo\"):\n",
        "    messages = [{\"role\": \"user\", \"content\": prompt}]\n",
        "    response = openai.chat.completions.create(\n",
        "        model=model,\n",
        "        messages=messages,\n",
        "        temperature=0,\n",
        "    )\n",
        "    return response.choices[0].message.content"
      ]
    },
    {
      "cell_type": "markdown",
      "id": "e5d7a169",
      "metadata": {
        "id": "e5d7a169"
      },
      "source": [
        "## Produktbewertung"
      ]
    },
    {
      "cell_type": "code",
      "execution_count": 3,
      "id": "4044b67b",
      "metadata": {
        "id": "4044b67b"
      },
      "outputs": [],
      "source": [
        "lamp_review = \"\"\"\n",
        "Ich brauchte eine schöne Lampe für mein Schlafzimmer, und diese hier hatte \\\n",
        "zusätzlichen Stauraum und keinen allzu hohen Preis. Die Lieferung war super \\\n",
        "schnell. Leider ist die Halterung der Lampe während des Transports kaputt gegangen, \\\n",
        "aber der Kundenservice des Unternehmens hat mir glücklicherweise und ohne Probleme \\\n",
        "eine neue geschickt. Diese kam auch innerhalb weniger Tage an. Der Zusammenbau war \\\n",
        "einfach. Mir fehlte zwar ein Teil, aber der Kundendienst hat mir das fehlende Teil \\\n",
        "sehr schnell besorgt! Lumina scheint mir ein tolles Unternehmen zu sein, das sich \\\n",
        "um seine Kunden und Produkte kümmert!\n",
        "\"\"\""
      ]
    },
    {
      "cell_type": "markdown",
      "id": "bb7a3b5a",
      "metadata": {
        "id": "bb7a3b5a"
      },
      "source": [
        "## Sentiment erkennen (positiv/negativ)"
      ]
    },
    {
      "cell_type": "code",
      "execution_count": 4,
      "id": "fafe8fbf",
      "metadata": {
        "id": "fafe8fbf",
        "outputId": "34deaeb2-0a28-41c0-b196-b95368c1a634",
        "colab": {
          "base_uri": "https://localhost:8080/"
        }
      },
      "outputs": [
        {
          "output_type": "stream",
          "name": "stdout",
          "text": [
            "Die Gesamtaussage der Produktbewertung ist positiv. Der Kunde lobt die Lampe für ihr Design, den zusätzlichen Stauraum und den angemessenen Preis. Obwohl es Probleme mit der Halterung und einem fehlenden Teil gab, lobt der Kunde den schnellen und problemlosen Kundenservice des Unternehmens. Insgesamt scheint der Kunde mit dem Produkt und dem Unternehmen zufrieden zu sein.\n"
          ]
        }
      ],
      "source": [
        "prompt = f\"\"\"\n",
        "Was ist die Gesamtaussage der folgenden Produktbewertung, die mit drei Backticks gekennzeichnet ist?\n",
        "\n",
        "Review-Text: '''{lamp_review}'''\n",
        "\"\"\"\n",
        "response = get_completion(prompt)\n",
        "print(response)"
      ]
    },
    {
      "cell_type": "code",
      "execution_count": 5,
      "id": "92957be9",
      "metadata": {
        "id": "92957be9",
        "outputId": "94f46520-9f00-4ca6-8ed4-320738fb274e",
        "colab": {
          "base_uri": "https://localhost:8080/"
        }
      },
      "outputs": [
        {
          "output_type": "stream",
          "name": "stdout",
          "text": [
            "positiv\n"
          ]
        }
      ],
      "source": [
        "prompt = f\"\"\"\n",
        "Welches Sentiment vermittelt die folgende Produktbewertung, die mit drei Backticks gekennzeichnet ist?\n",
        "\n",
        "Gib die Antwort in einem Wort, entweder \"positiv\" oder \"negativ\".\n",
        "\n",
        "Review-Text: '''{lamp_review}'''\n",
        "\"\"\"\n",
        "response = get_completion(prompt)\n",
        "print(response)"
      ]
    },
    {
      "cell_type": "markdown",
      "id": "db0f2297",
      "metadata": {
        "id": "db0f2297"
      },
      "source": [
        "## Emotionen erkennen"
      ]
    },
    {
      "cell_type": "code",
      "execution_count": 6,
      "id": "d95c4021",
      "metadata": {
        "id": "d95c4021",
        "outputId": "6cb1a9d0-3c91-4557-9963-03272711709f",
        "colab": {
          "base_uri": "https://localhost:8080/"
        }
      },
      "outputs": [
        {
          "output_type": "stream",
          "name": "stdout",
          "text": [
            "zufrieden, dankbar, erleichtert, beeindruckt, positiv\n"
          ]
        }
      ],
      "source": [
        "prompt = f\"\"\"\n",
        "Identifiziere eine Liste von Emotionen, die der Verfasser der folgenden \\\n",
        "Bewertung ausdrückt. Beschränke dich dabei auf maximal fünf Begriffe. \\\n",
        "Formatiere deine Antwort als kommagetrennte Liste von kleingeschriebenen Wörtern.\n",
        "\n",
        "Review-Text: '''{lamp_review}'''\n",
        "\"\"\"\n",
        "response = get_completion(prompt)\n",
        "print(response)"
      ]
    },
    {
      "cell_type": "markdown",
      "id": "834a72f6",
      "metadata": {
        "id": "834a72f6"
      },
      "source": [
        "## Ärger erkennen"
      ]
    },
    {
      "cell_type": "code",
      "execution_count": 7,
      "id": "65dcfcca",
      "metadata": {
        "id": "65dcfcca",
        "outputId": "40a8bafd-e39d-4be6-f91d-9787ff07adc9",
        "colab": {
          "base_uri": "https://localhost:8080/"
        }
      },
      "outputs": [
        {
          "output_type": "stream",
          "name": "stdout",
          "text": [
            "Nein.\n"
          ]
        }
      ],
      "source": [
        "prompt = f\"\"\"\n",
        "Ist der Verfasser der folgenden Bewertung wütend? Die Bewertung ist mit drei Backticks gekennzeichnet.\n",
        "Gib deine Antwort mit Ja oder Nein.\n",
        "\n",
        "Review-Text: '''{lamp_review}'''\n",
        "\"\"\"\n",
        "response = get_completion(prompt)\n",
        "print(response)"
      ]
    },
    {
      "cell_type": "markdown",
      "id": "412f7aac",
      "metadata": {
        "id": "412f7aac"
      },
      "source": [
        "## Produkte und Firmennamen aus Kundenbewertungen extrahieren"
      ]
    },
    {
      "cell_type": "code",
      "execution_count": 8,
      "id": "20f73984",
      "metadata": {
        "id": "20f73984",
        "outputId": "8f6bdb50-d319-47ac-b700-2fa7da71b526",
        "colab": {
          "base_uri": "https://localhost:8080/"
        }
      },
      "outputs": [
        {
          "output_type": "stream",
          "name": "stdout",
          "text": [
            "{\n",
            "    \"Item\": \"Lampe\",\n",
            "    \"Brand\": \"Lumina\"\n",
            "}\n"
          ]
        }
      ],
      "source": [
        "prompt = f\"\"\"\n",
        "Finde im folgenden Bewertungstext folgende Informationen:\n",
        "- Gekauftes Produkt\n",
        "- Hersteller des Produkts\n",
        "Der Text ist mit drei Backticks (```) abgegrenzt.\n",
        "\n",
        "Gib die Antwort als JSON-Objekt mit den Schlüsseln 'Item' und 'Brand' \\\n",
        "zurück. Verwende für fehlende Informationen 'unbekannt'.\n",
        "\n",
        "Die Antwort soll so kurz wie möglich sein.\n",
        "\n",
        "Review-Text: '''{lamp_review}'''\n",
        "\"\"\"\n",
        "response = get_completion(prompt)\n",
        "print(response)"
      ]
    },
    {
      "cell_type": "markdown",
      "id": "0451ec2d",
      "metadata": {
        "id": "0451ec2d"
      },
      "source": [
        "## Mehrere Aufgaben gleichzeitig erledigen"
      ]
    },
    {
      "cell_type": "code",
      "execution_count": 9,
      "id": "830f6726",
      "metadata": {
        "id": "830f6726",
        "outputId": "22b332d6-7753-46a9-ce40-d052d73cb448",
        "colab": {
          "base_uri": "https://localhost:8080/"
        }
      },
      "outputs": [
        {
          "output_type": "stream",
          "name": "stdout",
          "text": [
            "{\n",
            "    \"Sentiment\": \"positiv\",\n",
            "    \"Anger\": false,\n",
            "    \"Item\": \"unknown\",\n",
            "    \"Brand\": \"Lumina\"\n",
            "}\n"
          ]
        }
      ],
      "source": [
        "prompt = f\"\"\"\n",
        "Identifizieren Sie die folgenden Punkte aus dem Rezensionstext:\n",
        "- Stimmung (positiv oder negativ)\n",
        "- Drückt der Rezensent Ärger aus? (wahr oder falsch)\n",
        "- Vom Rezensenten gekauftes Produkt\n",
        "- Firma, die das Produkt hergestellt hat\n",
        "\n",
        "Die Rezension ist mit dreifachen Backticks begrenzt. \\\n",
        "Formatieren Sie Ihre Antwort als JSON-Objekt mit \\\n",
        "\"Sentiment\", \"Anger\", \"Item\" und \"Brand\" als Schlüssel.\n",
        "Wenn die Information nicht vorhanden ist, verwenden Sie \"unknown\" \\\n",
        "als Wert.\n",
        "Halten Sie Ihre Antwort so kurz wie möglich.\n",
        "Formatieren Sie den Anger-Wert als booleschen Wert.\n",
        "\n",
        "Rezensionstext: '''{lamp_review}'''\n",
        "\"\"\"\n",
        "response = get_completion(prompt)\n",
        "print(response)"
      ]
    },
    {
      "cell_type": "markdown",
      "id": "a5fee5d8",
      "metadata": {
        "id": "a5fee5d8"
      },
      "source": [
        "## Themen identifizieren"
      ]
    },
    {
      "cell_type": "code",
      "execution_count": 10,
      "id": "090f8db8",
      "metadata": {
        "id": "090f8db8"
      },
      "outputs": [],
      "source": [
        "story = \"\"\"\n",
        "Bei einer kürzlich von der Regierung durchgeführten Umfrage wurden Beschäftigte \\\n",
        "des öffentlichen Dienstes gebeten, ihre Zufriedenheit mit der Behörde, in der sie \\\n",
        "arbeiten, zu bewerten. Die Ergebnisse zeigten, dass die NASA mit einer Zufriedenheitsrate \\\n",
        "von 95 % die beliebteste Behörde war.\n",
        "Ein NASA-Mitarbeiter, John Smith, kommentierte die Ergebnisse mit den Worten: \"Es überrascht \\\n",
        "mich nicht, dass die NASA ganz oben steht. Es ist ein großartiger Arbeitsplatz mit tollen \\\n",
        "Kollegen und unglaublichen Möglichkeiten. Ich bin stolz darauf, Teil einer so innovativen Organisation zu sein.\"\n",
        "Die Ergebnisse wurden auch vom NASA-Managementteam begrüßt. Direktor Tom Johnson erklärte: \\\n",
        "\"Wir freuen uns sehr zu hören, dass unsere Mitarbeiter mit ihrer Arbeit bei der NASA \\\n",
        "zufrieden sind. Wir haben ein talentiertes und engagiertes Team, das unermüdlich an der \\\n",
        "Erreichung unserer Ziele arbeitet, und es ist fantastisch zu sehen, dass sich die harte Arbeit auszahlt.\"\n",
        "Die Umfrage ergab außerdem, dass die Sozialversicherungsbehörde die niedrigste Zufriedenheitsrate \\\n",
        "aufweist. Nur 45 % der Mitarbeiter gaben an, mit ihrem Arbeitsplatz zufrieden zu sein. Die Regierung \\\n",
        "hat zugesagt, die von den Mitarbeitern in der Umfrage geäußerten Bedenken anzugehen und daran zu arbeiten, \\\n",
        "die Zufriedenheit mit dem Arbeitsplatz in allen Abteilungen zu verbessern.\n",
        "\"\"\""
      ]
    },
    {
      "cell_type": "markdown",
      "id": "ef39d225",
      "metadata": {
        "id": "ef39d225"
      },
      "source": [
        "## 5 Themen identifizieren"
      ]
    },
    {
      "cell_type": "code",
      "execution_count": 11,
      "id": "bc0940df",
      "metadata": {
        "id": "bc0940df",
        "outputId": "2f1ed863-a87a-4676-e290-d65da149f615",
        "colab": {
          "base_uri": "https://localhost:8080/"
        }
      },
      "outputs": [
        {
          "output_type": "stream",
          "name": "stdout",
          "text": [
            "NASA, Mitarbeiterzufriedenheit, Sozialversicherungsbehörde, Regierungsumfrage, Arbeitsplatzzufriedenheit\n"
          ]
        }
      ],
      "source": [
        "prompt = f\"\"\"\n",
        "Finde fünf Themen, die in folgendem Text diskutiert werden:\n",
        "Der Text ist mit drei Backticks abgegrenzt.\n",
        "Schreibe jedes Thema als ein oder zwei Wörter.\n",
        "\n",
        "Formatiere deine Antwort als Kommagetrennte Liste.\n",
        "\n",
        "Text-Beispiel: '''{story}'''\n",
        "\"\"\"\n",
        "response = get_completion(prompt)\n",
        "print(response)"
      ]
    },
    {
      "cell_type": "code",
      "execution_count": 12,
      "id": "d5dff56a",
      "metadata": {
        "id": "d5dff56a",
        "outputId": "7dbc9fb8-2413-4930-cbe6-e39d32c635d9",
        "colab": {
          "base_uri": "https://localhost:8080/"
        }
      },
      "outputs": [
        {
          "output_type": "execute_result",
          "data": {
            "text/plain": [
              "['NASA',\n",
              " ' Mitarbeiterzufriedenheit',\n",
              " ' Sozialversicherungsbehörde',\n",
              " ' Regierungsumfrage',\n",
              " ' Arbeitsplatzzufriedenheit']"
            ]
          },
          "metadata": {},
          "execution_count": 12
        }
      ],
      "source": [
        "response.split(sep=',')"
      ]
    }
  ],
  "metadata": {
    "kernelspec": {
      "display_name": "Python 3 (ipykernel)",
      "language": "python",
      "name": "python3"
    },
    "language_info": {
      "codemirror_mode": {
        "name": "ipython",
        "version": 3
      },
      "file_extension": ".py",
      "mimetype": "text/x-python",
      "name": "python",
      "nbconvert_exporter": "python",
      "pygments_lexer": "ipython3",
      "version": "3.12.2"
    },
    "colab": {
      "provenance": [],
      "include_colab_link": true
    }
  },
  "nbformat": 4,
  "nbformat_minor": 5
}