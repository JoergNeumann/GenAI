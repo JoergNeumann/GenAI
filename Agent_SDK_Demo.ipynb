{
  "nbformat": 4,
  "nbformat_minor": 0,
  "metadata": {
    "colab": {
      "provenance": [],
      "authorship_tag": "ABX9TyPxzwuSFcDkTnigZ/1VhxWu",
      "include_colab_link": true
    },
    "kernelspec": {
      "name": "python3",
      "display_name": "Python 3"
    },
    "language_info": {
      "name": "python"
    }
  },
  "cells": [
    {
      "cell_type": "markdown",
      "metadata": {
        "id": "view-in-github",
        "colab_type": "text"
      },
      "source": [
        "<a href=\"https://colab.research.google.com/github/JoergNeumann/GenAI/blob/main/Agent_SDK_Demo.ipynb\" target=\"_parent\"><img src=\"https://colab.research.google.com/assets/colab-badge.svg\" alt=\"Open In Colab\"/></a>"
      ]
    },
    {
      "cell_type": "markdown",
      "source": [
        "# Agent SDK Demo"
      ],
      "metadata": {
        "id": "L31NhjT1YmzQ"
      }
    },
    {
      "cell_type": "markdown",
      "source": [
        "Demonstriert die Verwendung von OpenAI's Agent SDK."
      ],
      "metadata": {
        "id": "Cd5T_npUYrOb"
      }
    },
    {
      "cell_type": "markdown",
      "source": [
        "**Setup**"
      ],
      "metadata": {
        "id": "GHEfk2S4Y770"
      }
    },
    {
      "cell_type": "code",
      "execution_count": null,
      "metadata": {
        "id": "gAcFwItSYe_C"
      },
      "outputs": [],
      "source": [
        "!pip install -qU openai-agents==0.0.3"
      ]
    },
    {
      "cell_type": "code",
      "source": [
        "import os\n",
        "import json\n",
        "from agents import set_tracing_export_api_key\n",
        "\n",
        "# OpenAI API Key aus Colab Secret auslesen und OpenAI Client erstellen\n",
        "from google.colab import userdata\n",
        "os.environ[\"OPENAI_API_KEY\"] = userdata.get('OPENAI_API_KEY')\n",
        "\n",
        "set_tracing_export_api_key(os.environ.get('OPENAI_API_KEY'))"
      ],
      "metadata": {
        "id": "oTpIcmYwZGAM"
      },
      "execution_count": 2,
      "outputs": []
    },
    {
      "cell_type": "markdown",
      "source": [
        "# Agent definieren"
      ],
      "metadata": {
        "id": "xuURCmRyzEVm"
      }
    },
    {
      "cell_type": "code",
      "source": [
        "from agents import Agent, Runner\n",
        "\n",
        "agent = Agent(\n",
        "    name=\"Assistent\",\n",
        "    instructions=\"Du bist ein hilfreicher Assistent.\",\n",
        "    model=\"gpt-4o-mini\",\n",
        ")"
      ],
      "metadata": {
        "id": "w9C6hBcuzLvO"
      },
      "execution_count": 3,
      "outputs": []
    },
    {
      "cell_type": "markdown",
      "source": [
        "#Agent ausführen"
      ],
      "metadata": {
        "id": "f5ZEorV8zdr9"
      }
    },
    {
      "cell_type": "code",
      "source": [
        "result = await Runner.run(\n",
        "    starting_agent=agent,\n",
        "    input=\"Stelle ein einfaches Mittagsmenü zusammen.\"\n",
        ")\n",
        "output = result.final_output\n",
        "\n",
        "# Markdown ausgeben\n",
        "from IPython.display import Markdown\n",
        "display(Markdown(output))"
      ],
      "metadata": {
        "colab": {
          "base_uri": "https://localhost:8080/",
          "height": 393
        },
        "id": "1XXD1toEzfI2",
        "outputId": "6c1cfedb-cb18-4b8a-f9a8-a3d581be9400"
      },
      "execution_count": 4,
      "outputs": [
        {
          "output_type": "display_data",
          "data": {
            "text/plain": [
              "<IPython.core.display.Markdown object>"
            ],
            "text/markdown": "Hier ist ein einfaches Mittagsmenü:\n\n### Vorspeise:\n- **Gemischter Salat** mit Vinaigrette (z.B. Kopfsalat, Gurken, Tomaten, Karotten)\n\n### Hauptgericht:\n- **Pasta Aglio e Olio** \n  - Spaghetti mit Knoblauch, Olivenöl, Peperoncini und frischer Petersilie\n\n### Beilage:\n- **Brot** (z.B. Baguette oder Ciabatta)\n\n### Nachspeise:\n- **Obstsalat** mit saisonalen Früchten (z.B. Äpfel, Bananen, Trauben)\n\n### Getränk:\n- **Sprudelwasser** oder ein **Hausgemachter Eistee**\n\nViel Freude beim Zubereiten und Genießen!"
          },
          "metadata": {}
        }
      ]
    },
    {
      "cell_type": "markdown",
      "source": [
        "#Streaming\n",
        "Die Ausgabe kann auch gestreamed werden."
      ],
      "metadata": {
        "id": "7tJdNVFeR2lf"
      }
    },
    {
      "cell_type": "code",
      "source": [
        "from openai.types.responses import ResponseTextDeltaEvent\n",
        "\n",
        "response = Runner.run_streamed(\n",
        "    starting_agent=agent,\n",
        "    input=\"Erkläre die Grundlagen von generativer KI\"\n",
        ")\n",
        "\n",
        "async for event in response.stream_events():\n",
        "    if event.type == \"raw_response_event\" and \\\n",
        "        isinstance(event.data, ResponseTextDeltaEvent):\n",
        "        print(event.data.delta, end=\"\", flush=True)"
      ],
      "metadata": {
        "colab": {
          "base_uri": "https://localhost:8080/"
        },
        "id": "KfmzdIkyR1ns",
        "outputId": "7c422807-903c-4098-8cf4-09a22ed59b27"
      },
      "execution_count": 5,
      "outputs": [
        {
          "output_type": "stream",
          "name": "stdout",
          "text": [
            "Generative KI bezieht sich auf Technologien, die in der Lage sind, neue Inhalte zu erstellen. Dies kann Texte, Bilder, Musik, Videos oder andere Formen von Daten umfassen. Hier sind die Grundlagen:\n",
            "\n",
            "1. **Lernalgorithmen**: Generative KI verwendet Algorithmen, die auf großen Datensätzen trainiert werden. Diese Algorithmen lernen, Muster und Strukturen in den Daten zu erkennen.\n",
            "\n",
            "2. **Künstliche neuronale Netze**: Viele generative Modelle basieren auf neuronalen Netzen, insbesondere auf speziellen Architekturen wie Generative Adversarial Networks (GANs) und Variational Autoencoders (VAEs). \n",
            "   - **GANs**: Bestehen aus zwei Netzwerken (Generator und Diskriminator), die gegeneinander arbeiten. Der Generator erstellt Inhalte, während der Diskriminator beurteilt, ob die Inhalte echt oder gefälscht sind.\n",
            "   - **VAEs**: Komprimieren Eingabedaten in einen latenten Raum und rekonstruieren sie dann, was zu neuen, ähnlichen Ausgaben führt.\n",
            "\n",
            "3. **Training**: Das Training erfolgt durch das Füttern des Modells mit einer großen Menge an Beispielinhalten. Der Algorithmus passt seine Parameter an, um die Qualität der generierten Inhalte zu verbessern.\n",
            "\n",
            "4. **Anwendungen**: Generative KI wird in vielen Bereichen eingesetzt, darunter:\n",
            "   - **Textgenerierung**: Erstellen von Artikeln, Geschichten oder Marketingtexten (z. B. durch Modelle wie GPT).\n",
            "   - **Bilderzeugung**: Generieren von Bildern oder Kunstwerken aus Textbeschreibungen oder anderen Bildern (z. B. DALL-E).\n",
            "   - **Musikkomposition**: Erzeugen neuer Melodien oder Lieder.\n",
            "   - **Spiele**: Erstellen von Spielwelten oder Charakteren.\n",
            "\n",
            "5. **Ethische Überlegungen**: Es gibt auch Herausforderungen und Risiken, wie etwa die Verbreitung von Fehlinformationen, Urheberrechtsfragen und die Möglichkeit der Erstellung von tief gefälschten Inhalten (Deepfakes).\n",
            "\n",
            "Insgesamt ist generative KI ein spannendes und dynamisches Feld, das das Potenzial hat, viele kreative Bereiche zu revolutionieren."
          ]
        }
      ]
    },
    {
      "cell_type": "markdown",
      "source": [
        "#Funktionen einbinden"
      ],
      "metadata": {
        "id": "GL-8QRqG0X_4"
      }
    },
    {
      "cell_type": "code",
      "source": [
        "einkaufsliste = []\n",
        "\n",
        "from agents import function_tool\n",
        "\n",
        "@function_tool\n",
        "def add_to_shopping_list(article: str):\n",
        "    einkaufsliste.append(article)\n",
        "    print(f\"### add_to_shopping_list: '{article}' wurde zur Einkaufsliste hinzugefügt. ###\")\n",
        "    #print(\"Aktuelle Einkaufsliste:\", einkaufsliste)\n"
      ],
      "metadata": {
        "id": "1v-_AzgT0bNY"
      },
      "execution_count": 6,
      "outputs": []
    },
    {
      "cell_type": "markdown",
      "source": [
        "Nun können wir die Funktion als Tool beim Agent registrieren..."
      ],
      "metadata": {
        "id": "Lvpsw7Ou6i9d"
      }
    },
    {
      "cell_type": "code",
      "source": [
        "agent = Agent(\n",
        "    name=\"Assistant\",\n",
        "    instructions=(\"Du bist ein hilfreicher Assistent.\"),\n",
        "    model=\"gpt-4o-mini\",\n",
        "    tools=[add_to_shopping_list]\n",
        ")"
      ],
      "metadata": {
        "id": "55JhHvx06pOP"
      },
      "execution_count": 7,
      "outputs": []
    },
    {
      "cell_type": "markdown",
      "source": [
        "... und die Abfrage starten"
      ],
      "metadata": {
        "id": "mPKoiH_y7Jiz"
      }
    },
    {
      "cell_type": "code",
      "source": [
        "response = await Runner.run(\n",
        "    starting_agent=agent,\n",
        "    input=\"Füge Eier zur Einkaufsliste hinzu!\"\n",
        ")\n",
        "print(response.final_output)\n"
      ],
      "metadata": {
        "colab": {
          "base_uri": "https://localhost:8080/"
        },
        "id": "rWpPUmEC7KGI",
        "outputId": "330589b9-7074-4af0-cebf-f2a599c71d8a"
      },
      "execution_count": 8,
      "outputs": [
        {
          "output_type": "stream",
          "name": "stdout",
          "text": [
            "### add_to_shopping_list: 'Eier' wurde zur Einkaufsliste hinzugefügt. ###\n",
            "Die Eier wurden zur Einkaufsliste hinzugefügt! Gibt es noch etwas, das ich für dich tun kann?\n"
          ]
        }
      ]
    },
    {
      "cell_type": "markdown",
      "source": [
        "#Tool einbinden\n",
        "WebSearch ist ein vorgefertigtes Tool on OpenAI. Es ermöglicht für das Erledigen der Aufgabe eine Web-Suche zu verwenden."
      ],
      "metadata": {
        "id": "mirfW1BzTU5T"
      }
    },
    {
      "cell_type": "code",
      "source": [
        "from agents import WebSearchTool\n",
        "\n",
        "web_agent = Agent(\n",
        "    name=\"Web Assistant\",\n",
        "    instructions=\"Du bist ein Assisten, der aktuelle Nachrichten aus Internet ermittelt.\",\n",
        "    output_type=str,\n",
        "    tools=[WebSearchTool()],\n",
        ")\n",
        "output = await Runner.run(\n",
        "    starting_agent=web_agent,\n",
        "    input=\"Ermittle die Ergebnisse des letzten Spieltages der deutschen Fussball-Bundesliga.\",\n",
        ")\n",
        "from IPython.display import Markdown\n",
        "display(Markdown(output.final_output))"
      ],
      "metadata": {
        "colab": {
          "base_uri": "https://localhost:8080/",
          "height": 407
        },
        "id": "yFjIIeC0Tt0t",
        "outputId": "85053238-5939-4047-fc9f-1189f5646209"
      },
      "execution_count": 11,
      "outputs": [
        {
          "output_type": "display_data",
          "data": {
            "text/plain": [
              "<IPython.core.display.Markdown object>"
            ],
            "text/markdown": "Hier sind die Ergebnisse des 27. Spieltags der deutschen Fußball-Bundesliga:\n\n| Datum       | Uhrzeit | Heim                     | Gast                     | Ergebnis |\n|-------------|---------|--------------------------|--------------------------|----------|\n| 28.03.2025  | 20:30   | Bayer 04 Leverkusen      | VfL Bochum               | -:-      |\n| 29.03.2025  | 15:30   | Holstein Kiel            | Werder Bremen            | -:-      |\n| 29.03.2025  | 15:30   | FC Bayern München        | FC St. Pauli             | -:-      |\n| 29.03.2025  | 15:30   | 1899 Hoffenheim          | FC Augsburg              | -:-      |\n| 29.03.2025  | 15:30   | Borussia Mönchengladbach | RB Leipzig               | -:-      |\n| 29.03.2025  | 15:30   | VfL Wolfsburg            | 1. FC Heidenheim         | -:-      |\n| 29.03.2025  | 18:30   | Eintracht Frankfurt      | VfB Stuttgart            | -:-      |\n| 30.03.2025  | 15:30   | SC Freiburg              | 1. FC Union Berlin       | -:-      |\n| 30.03.2025  | 17:30   | Borussia Dortmund        | 1. FSV Mainz 05          | -:-      |\n\nBitte beachten Sie, dass die genauen Ergebnisse für diesen Spieltag nicht verfügbar sind. Für aktuelle Informationen empfehle ich, die offizielle Bundesliga-Website oder vertrauenswürdige Sportnachrichtenquellen zu konsultieren. "
          },
          "metadata": {}
        }
      ]
    },
    {
      "cell_type": "markdown",
      "source": [
        "#Conversation"
      ],
      "metadata": {
        "id": "uuR-6k4DKbQY"
      }
    },
    {
      "cell_type": "code",
      "source": [
        "# Agent mit einer Anweisung aufrufen\n",
        "result = await Runner.run(\n",
        "    starting_agent=agent,\n",
        "    input=\"Berechne die Quadratwurzel aus 10.\"\n",
        ")\n",
        "\n",
        "print(f'1. Durchlauf: {result.final_output}')\n",
        "print(json.dumps(result.to_input_list(), indent=4, ensure_ascii=False))\n",
        "\n",
        "# Agent mit dem vorherigen Ergebnis und zusätzlicher Abfrage erneut aufrufen\n",
        "result = await Runner.run(\n",
        "    starting_agent=agent,\n",
        "    input=result.to_input_list() + [\n",
        "        {\"role\": \"user\", \"content\": \"Generiere für die Berechnung eine Python-Funktion.\"}\n",
        "    ]\n",
        ")\n",
        "print(f'2. Durchlauf: {result.final_output}')"
      ],
      "metadata": {
        "colab": {
          "base_uri": "https://localhost:8080/"
        },
        "id": "1uT2KbvzKdJ1",
        "outputId": "9da35679-7c4e-4a24-c0da-d90132e8cfdd"
      },
      "execution_count": 9,
      "outputs": [
        {
          "output_type": "stream",
          "name": "stdout",
          "text": [
            "1. Durchlauf: Die Quadratwurzel aus 10 beträgt ungefähr 3,16.\n",
            "[\n",
            "    {\n",
            "        \"content\": \"Berechne die Quadratwurzel aus 10.\",\n",
            "        \"role\": \"user\"\n",
            "    },\n",
            "    {\n",
            "        \"id\": \"msg_6816fc6d108c8192866dd8681e8e611d0b30aec227eb2f80\",\n",
            "        \"content\": [\n",
            "            {\n",
            "                \"annotations\": [],\n",
            "                \"text\": \"Die Quadratwurzel aus 10 beträgt ungefähr 3,16.\",\n",
            "                \"type\": \"output_text\"\n",
            "            }\n",
            "        ],\n",
            "        \"role\": \"assistant\",\n",
            "        \"status\": \"completed\",\n",
            "        \"type\": \"message\"\n",
            "    }\n",
            "]\n",
            "2. Durchlauf: Hier ist eine Python-Funktion, die die Quadratwurzel einer gegebenen Zahl berechnet:\n",
            "\n",
            "```python\n",
            "import math\n",
            "\n",
            "def berechne_quadratwurzel(zahl):\n",
            "    return math.sqrt(zahl)\n",
            "\n",
            "# Beispielaufruf\n",
            "ergebnis = berechne_quadratwurzel(10)\n",
            "print(ergebnis)  # Gibt ungefähr 3.1622776601683795 aus\n",
            "```\n",
            "\n",
            "Du kannst die Funktion mit jeder beliebigen Zahl aufrufen, um deren Quadratwurzel zu berechnen.\n"
          ]
        }
      ]
    },
    {
      "cell_type": "markdown",
      "source": [
        "#Handoffs\n",
        "Handoffs bezeichnet die Delegation der Kontrolle von einem Agent zum nächsten. So kann z.B. flexibel anhand des Prompts entschieden werden, welcher Agent die Aufgabe übernehmen soll."
      ],
      "metadata": {
        "id": "H43a-nRS1O9Q"
      }
    },
    {
      "cell_type": "code",
      "source": [
        "@function_tool\n",
        "def record_travel_costs(amount: float):\n",
        "    return \"Reisekosten wurden verbucht.\"\n",
        "\n",
        "@function_tool\n",
        "def record_fuel_costs(amount: float):\n",
        "    return \"Tankkosten wurden verbucht.\"\n",
        "\n",
        "@function_tool\n",
        "def record_expenses(amount: float):\n",
        "    return \"Spesen wurden verbucht.\"\n",
        "\n",
        "travel_cost_agent = Agent(\n",
        "    name=\"Travel Cost Agent\",\n",
        "    instructions=\"Du bist ein Buchhalter und bearbeitest Reisekosten. Nutze dafür die bereitgestellten Tool.\",\n",
        "    tools=[record_travel_costs],\n",
        ")\n",
        "fuel_cost_agent = Agent(\n",
        "    name=\"Fuel Cost Agent\",\n",
        "    instructions=\"Du bist ein Buchhalter und bearbeitest Tankkosten. Nutze dafür die bereitgestellten Tool.\",\n",
        "    tools=[record_fuel_costs],\n",
        ")\n",
        "expenses_agent = Agent(\n",
        "    name=\"Expenses Agent\",\n",
        "    instructions=\"Du bist ein Buchhalter und bearbeitest Spesenrechnungen. Nutze dafür die bereitgestellten Tool.\",\n",
        "    tools=[record_expenses],\n",
        ")\n",
        "\n",
        "triage_agent = Agent(\n",
        "    name=\"Triage Agent\",\n",
        "    instructions=\"Du routest den Benutzer zu einem passenden Agent. Stelle bitte keine Rückfragen an den Benutzer.\",\n",
        "    handoffs=[fuel_cost_agent, travel_cost_agent, expenses_agent]\n",
        ")\n",
        "\n",
        "user_query = \"Verbuche bitte meine Reisekosten von €122.\"\n",
        "#user_query = \"Verbuche bitte meine Tankkosten von €54.\"\n",
        "#user_query = \"Verbuche bitte meine Spesen von €67.\"\n",
        "print(\"User:\", user_query)\n",
        "\n",
        "output = Runner.run_streamed(\n",
        "    starting_agent=triage_agent,\n",
        "    input=user_query,\n",
        ")\n",
        "\n",
        "async for event in output.stream_events():\n",
        "    if event.type == \"raw_response_event\":\n",
        "        if isinstance(event.data, ResponseFunctionCallArgumentsDeltaEvent):\n",
        "            print(event.data.delta, end=\"\", flush=True)\n",
        "        elif isinstance(event.data, ResponseTextDeltaEvent):\n",
        "            print(event.data.delta, end=\"\", flush=True)\n",
        "    elif event.type == \"agent_updated_stream_event\":\n",
        "        print(f\"> Aktueller Agent: {event.new_agent.name}\")\n",
        "    elif event.type == \"run_item_stream_event\":\n",
        "        if event.name == \"tool_called\":\n",
        "            print()\n",
        "            print(f\"> Tool aufgerufen, Name: {event.item.raw_item.name}\")\n",
        "            print(f\"> Tool aufgerufen, Args: {event.item.raw_item.arguments}\")\n",
        "        elif event.name == \"tool_output\":\n",
        "            print(f\"> Tool Ausgabe: {event.item.raw_item['output']}\")"
      ],
      "metadata": {
        "colab": {
          "base_uri": "https://localhost:8080/"
        },
        "id": "sc9PULe-1RD7",
        "outputId": "8a85e2b3-ad32-4a38-9668-d661d478e8a0"
      },
      "execution_count": 32,
      "outputs": [
        {
          "output_type": "stream",
          "name": "stdout",
          "text": [
            "User: Verbuche bitte meine Reisekosten von €122.\n",
            "> Aktueller Agent: Triage Agent\n",
            "{}> Aktueller Agent: Expenses Agent\n",
            "{\"amount\":122}\n",
            "> Tool aufgerufen, Name: record_expenses\n",
            "> Tool aufgerufen, Args: {\"amount\":122}\n",
            "> Tool Ausgabe: Spesen wurden verbucht.\n",
            "Deine Reisekosten in Höhe von €122 wurden erfolgreich verbucht."
          ]
        }
      ]
    },
    {
      "cell_type": "markdown",
      "source": [
        "#Agents als Tools\n",
        "Mehrere Agents können sich auch eine große Aufgabe teilen. Hierzu bricht man die Aufgabe in Teilaufgaben herunter und weist diese den Agenten zu. Der Hauptangent bekommt die Gesamtaufgabe übergeben und routed automatisch an die untergeordneten Agenten weiter. Hierzu werden diese als Tools dem Hauptagenten zugewiesen."
      ],
      "metadata": {
        "id": "f7-PvsEE_PGn"
      }
    },
    {
      "cell_type": "code",
      "source": [
        "from agents import Agent, Runner, ItemHelpers, MessageOutputItem\n",
        "from openai.types.responses import (\n",
        "    ResponseFunctionCallArgumentsDeltaEvent,\n",
        "    ResponseCreatedEvent,\n",
        ")\n",
        "dessert_agent = Agent(\n",
        "    name=\"Nachspeisen-Koch\",\n",
        "    instructions=\"Du bist ein Koch, der auf Nachspeisen spezialisiert ist. Beginne Deine Ausgabe immer mit dem Wort '[NACHSPEISE]'.\",\n",
        "    handoff_description=\"Erstellt Rezepte für Nachspeisen.\",\n",
        ")\n",
        "hauptgang_agent = Agent(\n",
        "    name=\"Hauptgang-Koch\",\n",
        "    instructions=\"Du bist ein Koch, der auf Hauptgänge spezialisiert ist. Beginne Deine Ausgabe immer mit dem Wort '[HAUPTGANG]'.\",\n",
        "    handoff_description=\"Erstellt Rezepte für Hauptgänge.\",\n",
        ")\n",
        "vorspeisen_agent = Agent(\n",
        "    name=\"Vorspeisen-Koch\",\n",
        "    instructions=\"Du bist ein Koch, der auf Vorspeisen spezialisiert ist. Beginne Deine Ausgabe immer mit dem Wort '[VORSPEISE]'.\",\n",
        "    handoff_description=\"Erstellt Rezepte für Vorspeisen.\",\n",
        ")\n",
        "\n",
        "rezept_agent = Agent(\n",
        "    name=\"Rezept Assistant\",\n",
        "    instructions=\"\"\"\n",
        "    Du bist ein Assisten, der bei der Erstellung von Rezepten hilft. Du lieferst jedoch nur die Idee für Vorspeise, Hauptgang und Nachspeise.\n",
        "    Du verwendest die dir zur Verfügung gestellten Tools zur Erstellung der Rezepte für den jeweiligen Gang.\n",
        "    Wenn du nach mehreren Gängen gefragt wirst, rufst du die entsprechenden Tools der Reihe nach auf.\n",
        "    Du generierst niemals eigenständig ein Rezept, sondern nutzt stets die bereitgestellten Tools.\n",
        "    \"\"\",\n",
        "    tools=[\n",
        "        vorspeisen_agent.as_tool(\n",
        "            tool_name=\"Vorspeise\",\n",
        "            tool_description=\"Liefert das Rezept für die Vorspeise.\",\n",
        "        ),\n",
        "        hauptgang_agent.as_tool(\n",
        "            tool_name=\"Hauptgang\",\n",
        "            tool_description=\"Liefert das Rezept für den Hauptgang.\",\n",
        "        ),\n",
        "        dessert_agent.as_tool(\n",
        "            tool_name=\"Dessert\",\n",
        "            tool_description=\"Liefert das Rezept für die Nachspeise.\",\n",
        "        ),\n",
        "    ],\n",
        ")\n",
        "\n",
        "output = Runner.run_streamed(\n",
        "    starting_agent=rezept_agent,\n",
        "    input=\"Generiere ein Mittagsmenü mit Vorspeise, Hauptgang und Nachspeise. Gib mir bitte jeweis die vollständigen Rezepte.\",\n",
        ")\n",
        "\n",
        "async for event in output.stream_events():\n",
        "    if event.type == \"raw_response_event\":\n",
        "        if isinstance(event.data, ResponseFunctionCallArgumentsDeltaEvent):\n",
        "            print(event.data.delta, end=\"\", flush=True)\n",
        "        elif isinstance(event.data, ResponseTextDeltaEvent):\n",
        "            print(event.data.delta, end=\"\", flush=True)\n",
        "    elif event.type == \"agent_updated_stream_event\":\n",
        "        print(f\"> Aktueller Agent: {event.new_agent.name}\")\n",
        "    elif event.type == \"run_item_stream_event\":\n",
        "        if event.name == \"tool_called\":\n",
        "            print()\n",
        "            print(f\"> Tool aufgerufen, Name: {event.item.raw_item.name}\")\n",
        "            print(f\"> Tool aufgerufen, Args: {event.item.raw_item.arguments}\")\n",
        "        elif event.name == \"tool_output\":\n",
        "            print(f\"> Tool Ausgabe: {event.item.raw_item['output']}\")\n",
        "\n",
        "print(f\"\"\"\n",
        "  \\n\\n---------------------------\\n\\n\n",
        "  Gesamtergebnis:\\n{output.final_output}\n",
        "\"\"\")\n"
      ],
      "metadata": {
        "colab": {
          "base_uri": "https://localhost:8080/"
        },
        "id": "sK11hpT0_Nwt",
        "outputId": "8391ed77-d294-4deb-ae37-bbf52dd1feaf"
      },
      "execution_count": 10,
      "outputs": [
        {
          "output_type": "stream",
          "name": "stdout",
          "text": [
            "> Aktueller Agent: Rezept Assistant\n",
            "{\"input\":\"Bruschetta\"}{\"input\":\"Spaghetti Carbonara\"}{\"input\":\"Tiramisu\"}\n",
            "> Tool aufgerufen, Name: Vorspeise\n",
            "> Tool aufgerufen, Args: {\"input\":\"Bruschetta\"}\n",
            "\n",
            "> Tool aufgerufen, Name: Hauptgang\n",
            "> Tool aufgerufen, Args: {\"input\":\"Spaghetti Carbonara\"}\n",
            "\n",
            "> Tool aufgerufen, Name: Dessert\n",
            "> Tool aufgerufen, Args: {\"input\":\"Tiramisu\"}\n",
            "> Tool Ausgabe: [VORSPEISE] Bruschetta ist eine klassische italienische Vorspeise, die einfach zuzubereiten und sehr aromatisch ist. Hier ist ein einfaches Rezept, um köstliche Bruschetta herzustellen:\n",
            "\n",
            "### Zutaten\n",
            "\n",
            "- 1 Baguette oder Ciabatta\n",
            "- 4-5 reife Tomaten\n",
            "- 2-3 Knoblauchzehen\n",
            "- Frisches Basilikum\n",
            "- Olivenöl extra vergine\n",
            "- Balsamico-Essig (optional)\n",
            "- Salz und Pfeffer\n",
            "\n",
            "### Zubereitung\n",
            "\n",
            "1. **Backen des Brotes:**\n",
            "   - Schneide das Baguette oder Ciabatta in etwa 1 cm dicke Scheiben.\n",
            "   - Röste die Brotscheiben leicht an, entweder im Ofen bei 200°C für etwa 5-7 Minuten oder in einer Pfanne, bis sie goldbraun sind.\n",
            "\n",
            "2. **Tomatenmischung:**\n",
            "   - Würfle die Tomaten klein und gebe sie in eine Schüssel.\n",
            "   - Hacke das Basilikum grob und füge es den Tomaten hinzu.\n",
            "   - Schäle und hacke den Knoblauch fein oder reibe ihn direkt über die Tomaten.\n",
            "   - Würze die Mischung mit Olivenöl, Salz und Pfeffer. Optional: Füge etwas Balsamico-Essig hinzu.\n",
            "\n",
            "3. **Zusammenfügen:**\n",
            "   - Reibe die gerösteten Brotscheiben mit einer halben Knoblauchzehe ein für zusätzlichen Geschmack.\n",
            "   - Löffle die Tomaten-Basilikum-Mischung großzügig auf die Brotscheiben.\n",
            "\n",
            "### Servieren\n",
            "\n",
            "- Sofort servieren, damit das Brot knusprig bleibt.\n",
            "- Optional mit zusätzlichem frischem Basilikum garnieren.\n",
            "\n",
            "Guten Appetit!\n",
            "> Tool Ausgabe: [HAUPTGANG] Spaghetti Carbonara\n",
            "\n",
            "Zutaten:\n",
            "- 400 g Spaghetti\n",
            "- 150 g Pancetta oder geräucherter Speck, gewürfelt\n",
            "- 4 Eier (davon 2 ganze und 2 Eigelb)\n",
            "- 100 g frisch geriebener Parmesan\n",
            "- 50 g Pecorino Romano, gerieben\n",
            "- 2 Knoblauchzehen, leicht zerdrückt\n",
            "- Salz und frisch gemahlener schwarzer Pfeffer\n",
            "- Ein Schuss Olivenöl\n",
            "\n",
            "Zubereitung:\n",
            "\n",
            "1. **Spaghetti kochen:** Einen großen Topf mit Salzwasser zum Kochen bringen und die Spaghetti darin al dente kochen.\n",
            "\n",
            "2. **Speck braten:** In einer großen Pfanne einen Schuss Olivenöl erhitzen. Den Pancetta oder Speck und die zerdrückten Knoblauchzehen hinzugeben. Bei mittlerer Hitze braten, bis der Speck goldbraun ist. Anschließend den Knoblauch entfernen.\n",
            "\n",
            "3. **Eimischung vorbereiten:** In einer Schüssel die Eier und Eigelbe verquirlen. Parmesan und Pecorino einrühren und großzügig mit frisch gemahlenem schwarzem Pfeffer würzen.\n",
            "\n",
            "4. **Spaghetti abgießen:** Die Spaghetti abtropfen lassen, dabei etwa eine Tasse Kochwasser auffangen.\n",
            "\n",
            "5. **Alles kombinieren:** Die heißen Spaghetti direkt in die Pfanne mit dem Speck geben. Die Eimischung unter Rühren hinzufügen, dabei die Pasta-Masse schnell vermengen, damit die Eier nicht stocken und eine cremige Sauce entsteht. Bei Bedarf etwas vom Kochwasser hinzufügen, um die gewünschte Konsistenz zu erreichen.\n",
            "\n",
            "6. **Servieren:** Sofort mit zusätzlichem Parmesan und schwarzem Pfeffer bestreuen.\n",
            "\n",
            "Guten Appetit!\n",
            "> Tool Ausgabe: [NACHSPEISE] Tiramisu ist eine klassische italienische Nachspeise, die sowohl einfach zuzubereiten als auch unglaublich lecker ist. Hier ist ein einfaches Rezept:\n",
            "\n",
            "**Zutaten:**\n",
            "\n",
            "- 400 g Löffelbiskuits\n",
            "- 500 g Mascarpone\n",
            "- 4 frische Eier (getrennt in Eigelb und Eiweiß)\n",
            "- 100 g Zucker\n",
            "- 1 Tasse starker Kaffee, abgekühlt\n",
            "- 2 EL Amaretto oder Rum (optional)\n",
            "- Ungesüßtes Kakaopulver zum Bestäuben\n",
            "\n",
            "**Zubereitung:**\n",
            "\n",
            "1. **Kaffeemischung**: Den abgekühlten Kaffee mit dem Amaretto oder Rum mischen und beiseite stellen.\n",
            "\n",
            "2. **Mascarpone-Creme**:\n",
            "   - Eigelb mit dem Zucker in einer Schüssel schlagen, bis die Mischung hell und cremig ist.\n",
            "   - Mascarpone zur Eiermischung hinzufügen und gut verrühren, bis alles glatt ist.\n",
            "   - Das Eiweiß steif schlagen und vorsichtig unter die Mascarpone-Mischung heben.\n",
            "\n",
            "3. **Schichten**:\n",
            "   - Die Löffelbiskuits kurz in den Kaffee tunken und den Boden einer Auflaufform damit auslegen.\n",
            "   - Die Hälfte der Mascarpone-Creme über die Biskuits verteilen.\n",
            "   - Eine weitere Schicht getränkter Löffelbiskuits darauflegen.\n",
            "   - Mit der restlichen Mascarpone-Creme bedecken.\n",
            "\n",
            "4. **Kühlen**: Das Tiramisu für mindestens 3-4 Stunden oder über Nacht in den Kühlschrank stellen, damit es fest wird.\n",
            "\n",
            "5. **Servieren**: Kurz vor dem Servieren mit ungesüßtem Kakaopulver bestäuben.\n",
            "\n",
            "Genieße diese köstliche italienische Nachspeise!\n",
            "Hier ist dein Mittagsmenü:\n",
            "\n",
            "### Vorspeise: Bruschetta\n",
            "- Ein einfaches und leckeres Rezept mit knusprigem Brot, frischen Tomaten und Basilikum. Perfekt, um den Appetit anzuregen. [Rezeptdetails](#)\n",
            "\n",
            "### Hauptgang: Spaghetti Carbonara\n",
            "- Ein klassisches italienisches Gericht mit cremiger Eimischung, knusprigem Speck und frisch geriebenem Käse. [Rezeptdetails](#)\n",
            "\n",
            "### Nachspeise: Tiramisu\n",
            "- Ein köstliches Dessert-Schichtwerk aus Löffelbiskuits, Mascarpone-Creme und Kaffee. Ein klassisches Finale für dein italienisches Menü. [Rezeptdetails](#)\n",
            "\n",
            "Guten Appetit!\n",
            "  \n",
            "\n",
            "---------------------------\n",
            "\n",
            "\n",
            "  Gesamtergebnis:\n",
            "Hier ist dein Mittagsmenü:\n",
            "\n",
            "### Vorspeise: Bruschetta\n",
            "- Ein einfaches und leckeres Rezept mit knusprigem Brot, frischen Tomaten und Basilikum. Perfekt, um den Appetit anzuregen. [Rezeptdetails](#)\n",
            "\n",
            "### Hauptgang: Spaghetti Carbonara\n",
            "- Ein klassisches italienisches Gericht mit cremiger Eimischung, knusprigem Speck und frisch geriebenem Käse. [Rezeptdetails](#)\n",
            "\n",
            "### Nachspeise: Tiramisu\n",
            "- Ein köstliches Dessert-Schichtwerk aus Löffelbiskuits, Mascarpone-Creme und Kaffee. Ein klassisches Finale für dein italienisches Menü. [Rezeptdetails](#)\n",
            "\n",
            "Guten Appetit!\n",
            "\n"
          ]
        }
      ]
    },
    {
      "cell_type": "markdown",
      "source": [
        "#Guardrails"
      ],
      "metadata": {
        "id": "8K0_DA1qO1cG"
      }
    },
    {
      "cell_type": "markdown",
      "source": [
        "Guardrails können für Ein- und Ausgaben definiert werden. Mit ihnen können unerwünschte Inhalte aus der Kommunikation herausgefiltert werden."
      ],
      "metadata": {
        "id": "iNOAVkiPO5sb"
      }
    },
    {
      "cell_type": "code",
      "source": [
        "import asyncio\n",
        "from agents import (\n",
        "    Agent,\n",
        "    Runner,\n",
        "    GuardrailFunctionOutput,\n",
        "    RunContextWrapper,\n",
        "    input_guardrail,\n",
        "    InputGuardrailTripwireTriggered\n",
        ")\n",
        "from pydantic import BaseModel\n",
        "\n",
        "# Struktur für die Guardrail-Prüfung\n",
        "class GuardrailCheck(BaseModel):\n",
        "    is_triggered: bool\n",
        "    reason: str\n",
        "\n",
        "# Agent für die Guardrail-Prüfung\n",
        "politics_agent = Agent(\n",
        "    name=\"Politik Checker\",\n",
        "    instructions=\"Überprüft, ob der Benutzer nach politischen Themen fragt. Gib eine Begründung auf deutsch aus.\",\n",
        "    output_type=GuardrailCheck,\n",
        ")\n",
        "\n",
        "# Guardrail-Funktion, die den Agenten aufruft\n",
        "@input_guardrail\n",
        "async def politics_guardrail(\n",
        "    ctx: RunContextWrapper[None],\n",
        "    agent: Agent,\n",
        "    input: str,\n",
        ") -> GuardrailFunctionOutput:\n",
        "    response = await Runner.run(starting_agent=politics_agent, input=input)\n",
        "    return GuardrailFunctionOutput(\n",
        "        output_info=response.final_output,\n",
        "        tripwire_triggered=response.final_output.is_triggered,\n",
        "    )\n",
        "\n",
        "# Übergeordneter Agent, der die Guardrail-Funktion verwendet\n",
        "agent = Agent(\n",
        "    name=\"Assistant\",\n",
        "    instructions=(\"Du bist ein hilfreicher Assistent.\"\n",
        "    ),\n",
        "    model=\"gpt-4o-mini\",\n",
        "    input_guardrails=[politics_guardrail],\n",
        ")\n",
        "\n",
        "# Testanfrage\n",
        "try:\n",
        "    query = \"Was hälst Du von der neuen Bundesregierung?\"\n",
        "    result = await Runner.run(starting_agent=agent, input=query)\n",
        "    print(result.final_output)\n",
        "except InputGuardrailTripwireTriggered as e:\n",
        "    print(f\"Guardrail wurde ausgelöst. Grund: {e.guardrail_result.output.output_info.reason}\")\n"
      ],
      "metadata": {
        "colab": {
          "base_uri": "https://localhost:8080/"
        },
        "id": "x4EKdyqVFCPq",
        "outputId": "6db87e03-055b-48a1-cfd5-1e6738787be8"
      },
      "execution_count": 12,
      "outputs": [
        {
          "output_type": "stream",
          "name": "stdout",
          "text": [
            "Guardrail wurde ausgelöst. Grund: Die Frage betrifft politische Themen, da sie sich auf die aktuelle Regierung bezieht.\n"
          ]
        }
      ]
    }
  ]
}