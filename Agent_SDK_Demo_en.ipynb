{
  "nbformat": 4,
  "nbformat_minor": 0,
  "metadata": {
    "colab": {
      "provenance": [],
      "include_colab_link": true
    },
    "kernelspec": {
      "name": "python3",
      "display_name": "Python 3"
    },
    "language_info": {
      "name": "python"
    }
  },
  "cells": [
    {
      "cell_type": "markdown",
      "metadata": {
        "id": "view-in-github",
        "colab_type": "text"
      },
      "source": [
        "<a href=\"https://colab.research.google.com/github/JoergNeumann/GenAI/blob/main/Agent_SDK_Demo_en.ipynb\" target=\"_parent\"><img src=\"https://colab.research.google.com/assets/colab-badge.svg\" alt=\"Open In Colab\"/></a>"
      ]
    },
    {
      "cell_type": "markdown",
      "source": [
        "# Agent SDK Demo"
      ],
      "metadata": {
        "id": "L31NhjT1YmzQ"
      }
    },
    {
      "cell_type": "markdown",
      "source": [
        "Demonstrates the use of OpenAI's Agent SDK."
      ],
      "metadata": {
        "id": "Cd5T_npUYrOb"
      }
    },
    {
      "cell_type": "markdown",
      "source": [
        "**Setup**"
      ],
      "metadata": {
        "id": "GHEfk2S4Y770"
      }
    },
    {
      "cell_type": "code",
      "execution_count": 1,
      "metadata": {
        "id": "gAcFwItSYe_C",
        "colab": {
          "base_uri": "https://localhost:8080/"
        },
        "outputId": "bff97aaa-ec83-48ee-f4e5-816ef14f79d0"
      },
      "outputs": [
        {
          "output_type": "stream",
          "name": "stdout",
          "text": [
            "\u001b[?25l   \u001b[90m━━━━━━━━━━━━━━━━━━━━━━━━━━━━━━━━━━━━━━━━\u001b[0m \u001b[32m0.0/75.5 kB\u001b[0m \u001b[31m?\u001b[0m eta \u001b[36m-:--:--\u001b[0m\r\u001b[2K   \u001b[90m━━━━━━━━━━━━━━━━━━━━━━━━━━━━━━━━━━━━━━━━\u001b[0m \u001b[32m75.5/75.5 kB\u001b[0m \u001b[31m6.2 MB/s\u001b[0m eta \u001b[36m0:00:00\u001b[0m\n",
            "\u001b[?25h\u001b[?25l   \u001b[90m━━━━━━━━━━━━━━━━━━━━━━━━━━━━━━━━━━━━━━━━\u001b[0m \u001b[32m0.0/129.3 kB\u001b[0m \u001b[31m?\u001b[0m eta \u001b[36m-:--:--\u001b[0m\r\u001b[2K   \u001b[90m━━━━━━━━━━━━━━━━━━━━━━━━━━━━━━━━━━━━━━━━\u001b[0m \u001b[32m129.3/129.3 kB\u001b[0m \u001b[31m9.2 MB/s\u001b[0m eta \u001b[36m0:00:00\u001b[0m\n",
            "\u001b[?25h"
          ]
        }
      ],
      "source": [
        "!pip install -qU openai-agents==0.0.3"
      ]
    },
    {
      "cell_type": "code",
      "source": [
        "import os\n",
        "import json\n",
        "from agents import set_tracing_export_api_key\n",
        "\n",
        "# Read OpenAI API Key from Colab Secret and create OpenAI Client\n",
        "from google.colab import userdata\n",
        "os.environ[\"OPENAI_API_KEY\"] = userdata.get('OPENAI_API_KEY')\n",
        "\n",
        "set_tracing_export_api_key(os.environ.get('OPENAI_API_KEY'))"
      ],
      "metadata": {
        "id": "oTpIcmYwZGAM"
      },
      "execution_count": 2,
      "outputs": []
    },
    {
      "cell_type": "markdown",
      "source": [
        "# Define Agent"
      ],
      "metadata": {
        "id": "xuURCmRyzEVm"
      }
    },
    {
      "cell_type": "code",
      "source": [
        "from agents import Agent, Runner\n",
        "\n",
        "agent = Agent(\n",
        "    name=\"Assistant\",\n",
        "    instructions=\"You are a helpful assistant.\",\n",
        "    model=\"gpt-4o-mini\",\n",
        ")"
      ],
      "metadata": {
        "id": "w9C6hBcuzLvO"
      },
      "execution_count": 3,
      "outputs": []
    },
    {
      "cell_type": "markdown",
      "source": [
        "# Run Agent"
      ],
      "metadata": {
        "id": "f5ZEorV8zdr9"
      }
    },
    {
      "cell_type": "code",
      "source": [
        "result = await Runner.run(\n",
        "    starting_agent=agent,\n",
        "    input=\"Create a simple lunch menu.\"\n",
        ")\n",
        "output = result.final_output\n",
        "\n",
        "# Output Markdown\n",
        "from IPython.display import Markdown\n",
        "display(Markdown(output))"
      ],
      "metadata": {
        "id": "1XXD1toEzfI2",
        "colab": {
          "base_uri": "https://localhost:8080/",
          "height": 811
        },
        "outputId": "4ad01e88-d972-4ee5-bb4f-2b19f3cefba1"
      },
      "execution_count": 4,
      "outputs": [
        {
          "output_type": "display_data",
          "data": {
            "text/plain": [
              "<IPython.core.display.Markdown object>"
            ],
            "text/markdown": "Sure! Here’s a simple lunch menu:\n\n### Lunch Menu\n\n#### **1. Sandwiches**\n- **Turkey & Avocado Club**  \n  Sliced turkey, fresh avocado, lettuce, tomato, and mayo on whole grain bread.\n\n- **Caprese Panini**  \n  Fresh mozzarella, tomatoes, basil, and balsamic glaze pressed on ciabatta.\n\n#### **2. Salads**\n- **Caesar Salad**  \n  Crisp romaine, parmesan cheese, croutons, and creamy Caesar dressing.\n\n- **Quinoa & Black Bean Salad**  \n  Quinoa, black beans, corn, red bell pepper, cilantro, and lime vinaigrette.\n\n#### **3. Wraps**\n- **Hummus & Veggie Wrap**  \n  Hummus, mixed veggies, and spinach in a whole wheat tortilla.\n\n- **Buffalo Chicken Wrap**  \n  Spicy grilled chicken, lettuce, celery, and ranch dressing in a flour tortilla.\n\n#### **4. Soups**\n- **Tomato Basil Soup**  \n  Creamy tomato soup with fresh basil served with a side of crusty bread.\n\n- **Chicken Noodle Soup**  \n  Classic chicken soup with vegetables and egg noodles.\n\n#### **5. Sides**\n- **Fresh Fruit Cup**  \n  A mix of seasonal fruits.\n\n- **Chips**  \n  Choice of regular or spicy tortilla chips.\n\n#### **6. Beverages**\n- **Iced Tea**  \n  Freshly brewed, sweetened or unsweetened.\n\n- **Sparkling Water**  \n  Refreshing sparkling mineral water.\n\nFeel free to choose any combination for a delicious and satisfying lunch!"
          },
          "metadata": {}
        }
      ]
    },
    {
      "cell_type": "markdown",
      "source": [
        "# Streaming\n",
        "The output can also be streamed."
      ],
      "metadata": {
        "id": "7tJdNVFeR2lf"
      }
    },
    {
      "cell_type": "code",
      "source": [
        "from openai.types.responses import ResponseTextDeltaEvent\n",
        "\n",
        "response = Runner.run_streamed(\n",
        "    starting_agent=agent,\n",
        "    input=\"Explain the basics of generative AI\"\n",
        ")\n",
        "\n",
        "async for event in response.stream_events():\n",
        "    if event.type == \"raw_response_event\" and \\\n",
        "        isinstance(event.data, ResponseTextDeltaEvent):\n",
        "        print(event.data.delta, end=\"\", flush=True)"
      ],
      "metadata": {
        "id": "KfmzdIkyR1ns",
        "colab": {
          "base_uri": "https://localhost:8080/"
        },
        "outputId": "06bb4408-7e7e-4b4e-ac2d-21ecc988d2a7"
      },
      "execution_count": 5,
      "outputs": [
        {
          "output_type": "stream",
          "name": "stdout",
          "text": [
            "Generative AI refers to a class of artificial intelligence models designed to generate new content based on existing data. Here are some key concepts to understand the basics:\n",
            "\n",
            "### 1. **Definition and Purpose**\n",
            "- **Generative AI** generates text, images, music, or other types of data. Unlike discriminative models, which classify or analyze input data, generative models create new instances that resemble the training data.\n",
            "\n",
            "### 2. **Types of Generative Models**\n",
            "- **Generative Adversarial Networks (GANs)**: Consist of two neural networks—a generator and a discriminator—that compete against each other. The generator creates data, while the discriminator evaluates its authenticity.\n",
            "- **Variational Autoencoders (VAEs)**: These encode input data into a compressed representation and then decode it to generate new data, allowing for smooth interpolation between different data points.\n",
            "- **Transformers**: Models like GPT (Generative Pre-trained Transformer) generate text by predicting the next word in a sequence based on context.\n",
            "\n",
            "### 3. **Applications**\n",
            "- **Text Generation**: Creating articles, chatbots, or poetry.\n",
            "- **Image Synthesis**: Producing realistic images, artwork, or modifying existing images (e.g., style transfer).\n",
            "- **Music Creation**: Composing original pieces or mimicking specific styles.\n",
            "- **Video Generation**: Creating animations or deepfakes.\n",
            "\n",
            "### 4. **Training Process**\n",
            "- Generative models are trained on large datasets. The training involves learning the underlying structure and distribution of the data. The quality and diversity of the training data are key to good generative performance.\n",
            "\n",
            "### 5. **Evaluation**\n",
            "- Assessing the quality of generative AI can be challenging. Metrics like Inception Score, Fréchet Inception Distance (FID), and human evaluation are often used.\n",
            "\n",
            "### 6. **Ethical Considerations**\n",
            "- Generative AI raises concerns, including copyright issues, misinformation, and the potential for harmful content. Responsible use and guidelines are essential.\n",
            "\n",
            "### 7. **Future Directions**\n",
            "- As generative AI evolves, it may lead to more personalized content, improved collaboration between humans and machines, and advances in fields like medicine and design.\n",
            "\n",
            "Overall, generative AI represents a significant advancement in machine learning, enabling creative applications across various domains."
          ]
        }
      ]
    },
    {
      "cell_type": "markdown",
      "source": [
        "# Integrate Functions"
      ],
      "metadata": {
        "id": "GL-8QRqG0X_4"
      }
    },
    {
      "cell_type": "code",
      "source": [
        "shopping_list = []\n",
        "\n",
        "from agents import function_tool\n",
        "\n",
        "@function_tool\n",
        "def add_to_shopping_list(article: str):\n",
        "    shopping_list.append(article)\n",
        "    print(f\"### add_to_shopping_list: '{article}' was added to the shopping list. ###\")\n",
        "    #print(\"Current shopping list:\", shopping_list)\n"
      ],
      "metadata": {
        "id": "1v-_AzgT0bNY"
      },
      "execution_count": 6,
      "outputs": []
    },
    {
      "cell_type": "markdown",
      "source": [
        "Now we can register the function as a tool with the agent..."
      ],
      "metadata": {
        "id": "Lvpsw7Ou6i9d"
      }
    },
    {
      "cell_type": "code",
      "source": [
        "agent = Agent(\n",
        "    name=\"Assistant\",\n",
        "    instructions=(\"You are a helpful assistant.\"),\n",
        "    model=\"gpt-4o-mini\",\n",
        "    tools=[add_to_shopping_list]\n",
        ")"
      ],
      "metadata": {
        "id": "55JhHvx06pOP"
      },
      "execution_count": 7,
      "outputs": []
    },
    {
      "cell_type": "markdown",
      "source": [
        "... and start the query"
      ],
      "metadata": {
        "id": "mPKoiH_y7Jiz"
      }
    },
    {
      "cell_type": "code",
      "source": [
        "response = await Runner.run(\n",
        "    starting_agent=agent,\n",
        "    input=\"Add eggs to the shopping list!\"\n",
        ")\n",
        "print(response.final_output)\n"
      ],
      "metadata": {
        "id": "rWpPUmEC7KGI",
        "colab": {
          "base_uri": "https://localhost:8080/"
        },
        "outputId": "25841e38-a8fe-40b9-a680-70edf8d8b1a3"
      },
      "execution_count": 8,
      "outputs": [
        {
          "output_type": "stream",
          "name": "stdout",
          "text": [
            "### add_to_shopping_list: 'eggs' was added to the shopping list. ###\n",
            "I've added eggs to the shopping list! Let me know if you need anything else.\n"
          ]
        }
      ]
    },
    {
      "cell_type": "markdown",
      "source": [
        "# Integrate Tool\n",
        "WebSearch is a pre-built tool from OpenAI. It allows using web search to complete the task."
      ],
      "metadata": {
        "id": "mirfW1BzTU5T"
      }
    },
    {
      "cell_type": "code",
      "source": [
        "from agents import WebSearchTool\n",
        "\n",
        "web_agent = Agent(\n",
        "    name=\"Web Assistant\",\n",
        "    instructions=\"You are an assistant who retrieves current news from the internet.\",\n",
        "    output_type=str,\n",
        "    tools=[WebSearchTool()],\n",
        ")\n",
        "output = await Runner.run(\n",
        "    starting_agent=web_agent,\n",
        "    input=\"Find the results of the last matchday (32nd matchday, 2025) of the German Football Bundesliga.\",\n",
        ")\n",
        "from IPython.display import Markdown\n",
        "display(Markdown(output.final_output))"
      ],
      "metadata": {
        "id": "yFjIIeC0Tt0t",
        "colab": {
          "base_uri": "https://localhost:8080/",
          "height": 314
        },
        "outputId": "f76d8108-7270-4eea-b80c-909e4d504808"
      },
      "execution_count": 9,
      "outputs": [
        {
          "output_type": "display_data",
          "data": {
            "text/plain": [
              "<IPython.core.display.Markdown object>"
            ],
            "text/markdown": "The 32nd matchday of the 2024/2025 German Bundesliga season took place from May 2 to May 4, 2025. Here are the results:\n\n- **May 2, 2025 (Friday):**\n  - 1. FC Heidenheim 1846 0 – 0 VfL Bochum\n\n- **May 3, 2025 (Saturday):**\n  - Borussia Dortmund 4 – 0 VfL Wolfsburg\n  - RB Leipzig 3 – 3 Bayern Munich\n  - Borussia Mönchengladbach 4 – 4 TSG 1899 Hoffenheim\n  - 1. FC Union Berlin 2 – 2 Werder Bremen\n  - FC St. Pauli 0 – 1 VfB Stuttgart\n\n- **May 4, 2025 (Sunday):**\n  - FC Augsburg 1 – 3 Holstein Kiel\n  - SC Freiburg 2 – 2 Bayer 04 Leverkusen\n  - 1. FSV Mainz 05 1 – 1 Eintracht Frankfurt\n\nNotably, Bayern Munich secured the Bundesliga title on May 4, 2025, following Bayer Leverkusen's 2–2 draw with SC Freiburg. ([en.wikipedia.org](https://en.wikipedia.org/wiki/2024%E2%80%9325_Bundesliga?utm_source=openai)) "
          },
          "metadata": {}
        }
      ]
    },
    {
      "cell_type": "markdown",
      "source": [
        "# Conversation"
      ],
      "metadata": {
        "id": "uuR-6k4DKbQY"
      }
    },
    {
      "cell_type": "code",
      "source": [
        "# Call agent with an instruction\n",
        "result = await Runner.run(\n",
        "    starting_agent=agent,\n",
        "    input=\"Calculate the square root of 10.\"\n",
        ")\n",
        "\n",
        "print(f'1st pass: {result.final_output}')\n",
        "print(json.dumps(result.to_input_list(), indent=4, ensure_ascii=False))\n",
        "\n",
        "# Call agent again with the previous result and an additional query\n",
        "result = await Runner.run(\n",
        "    starting_agent=agent,\n",
        "    input=result.to_input_list() + [\n",
        "        {\"role\": \"user\", \"content\": \"Generate a Python function for the calculation.\"}\n",
        "    ]\n",
        ")\n",
        "print(f'2nd pass: {result.final_output}')"
      ],
      "metadata": {
        "id": "1uT2KbvzKdJ1",
        "colab": {
          "base_uri": "https://localhost:8080/"
        },
        "outputId": "29ef0e1b-520c-431d-dd8e-30cf3568f82a"
      },
      "execution_count": 10,
      "outputs": [
        {
          "output_type": "stream",
          "name": "stdout",
          "text": [
            "1st pass: The square root of 10 is approximately 3.1623.\n",
            "[\n",
            "    {\n",
            "        \"content\": \"Calculate the square root of 10.\",\n",
            "        \"role\": \"user\"\n",
            "    },\n",
            "    {\n",
            "        \"id\": \"msg_686bdf60b984819ab4bc5e2483f14aef088273285b90807c\",\n",
            "        \"content\": [\n",
            "            {\n",
            "                \"annotations\": [],\n",
            "                \"text\": \"The square root of 10 is approximately 3.1623.\",\n",
            "                \"type\": \"output_text\",\n",
            "                \"logprobs\": []\n",
            "            }\n",
            "        ],\n",
            "        \"role\": \"assistant\",\n",
            "        \"status\": \"completed\",\n",
            "        \"type\": \"message\"\n",
            "    }\n",
            "]\n",
            "2nd pass: Here’s a simple Python function to calculate the square root of a number:\n",
            "\n",
            "```python\n",
            "import math\n",
            "\n",
            "def calculate_square_root(number):\n",
            "    if number < 0:\n",
            "        raise ValueError(\"Cannot calculate the square root of a negative number.\")\n",
            "    return math.sqrt(number)\n",
            "\n",
            "# Example usage:\n",
            "result = calculate_square_root(10)\n",
            "print(result)  # Output: 3.1622776601683795\n",
            "```\n",
            "\n",
            "You can replace `10` in the example usage with any number you want to find the square root of.\n"
          ]
        }
      ]
    },
    {
      "cell_type": "markdown",
      "source": [
        "# Handoffs\n",
        "Handoffs refer to the delegation of control from one agent to the next. This allows for flexible decisions on which agent should handle a task based on the prompt."
      ],
      "metadata": {
        "id": "H43a-nRS1O9Q"
      }
    },
    {
      "cell_type": "code",
      "source": [
        "@function_tool\n",
        "def record_travel_costs(amount: float):\n",
        "    return \"Travel costs have been recorded.\"\n",
        "\n",
        "@function_tool\n",
        "def record_fuel_costs(amount: float):\n",
        "    return \"Fuel costs have been recorded.\"\n",
        "\n",
        "@function_tool\n",
        "def record_expenses(amount: float):\n",
        "    return \"Expenses have been recorded.\"\n",
        "\n",
        "travel_cost_agent = Agent(\n",
        "    name=\"Travel Cost Agent\",\n",
        "    instructions=\"You are an accountant and process travel expenses. Use the provided tool for this.\",\n",
        "    tools=[record_travel_costs],\n",
        ")\n",
        "fuel_cost_agent = Agent(\n",
        "    name=\"Fuel Cost Agent\",\n",
        "    instructions=\"You are an accountant and process fuel expenses. Use the provided tool for this.\",\n",
        "    tools=[record_fuel_costs],\n",
        ")\n",
        "expenses_agent = Agent(\n",
        "    name=\"Expenses Agent\",\n",
        "    instructions=\"You are an accountant and process expense reports. Use the provided tool for this.\",\n",
        "    tools=[record_expenses],\n",
        ")\n",
        "\n",
        "triage_agent = Agent(\n",
        "    name=\"Triage Agent\",\n",
        "    instructions=\"You route the user to a suitable agent. Please do not ask follow-up questions to the user.\",\n",
        "    handoffs=[fuel_cost_agent, travel_cost_agent, expenses_agent]\n",
        ")\n",
        "\n",
        "user_query = \"Please record my travel expenses of €122.\"\n",
        "#user_query = \"Please record my fuel costs of €54.\"\n",
        "#user_query = \"Please record my expenses of €67.\"\n",
        "print(\"User:\", user_query)\n",
        "\n",
        "output = Runner.run_streamed(\n",
        "    starting_agent=triage_agent,\n",
        "    input=user_query,\n",
        ")\n",
        "from openai.types.responses import (\n",
        "    ResponseFunctionCallArgumentsDeltaEvent,\n",
        "    ResponseCreatedEvent,\n",
        ")\n",
        "async for event in output.stream_events():\n",
        "    if event.type == \"raw_response_event\":\n",
        "        if isinstance(event.data, ResponseFunctionCallArgumentsDeltaEvent):\n",
        "            print(event.data.delta, end=\"\", flush=True)\n",
        "        elif isinstance(event.data, ResponseTextDeltaEvent):\n",
        "            print(event.data.delta, end=\"\", flush=True)\n",
        "    elif event.type == \"agent_updated_stream_event\":\n",
        "        print(f\"> Current Agent: {event.new_agent.name}\")\n",
        "    elif event.type == \"run_item_stream_event\":\n",
        "        if event.name == \"tool_called\":\n",
        "            print()\n",
        "            print(f\"> Tool called, Name: {event.item.raw_item.name}\")\n",
        "            print(f\"> Tool called, Args: {event.item.raw_item.arguments}\")\n",
        "        elif event.name == \"tool_output\":\n",
        "            print(f\"> Tool Output: {event.item.raw_item['output']}\")"
      ],
      "metadata": {
        "id": "sc9PULe-1RD7",
        "colab": {
          "base_uri": "https://localhost:8080/"
        },
        "outputId": "ebbfcce7-a271-443d-8c90-6daee56326b2"
      },
      "execution_count": 11,
      "outputs": [
        {
          "output_type": "stream",
          "name": "stdout",
          "text": [
            "User: Please record my travel expenses of €122.\n",
            "> Current Agent: Triage Agent\n",
            "{}> Current Agent: Expenses Agent\n",
            "{\"amount\":122}\n",
            "> Tool called, Name: record_expenses\n",
            "> Tool called, Args: {\"amount\":122}\n",
            "> Tool Output: Expenses have been recorded.\n",
            "Your travel expenses of €122 have been recorded successfully."
          ]
        }
      ]
    },
    {
      "cell_type": "markdown",
      "source": [
        "# Agents as Tools\n",
        "Multiple agents can also share a large task. This involves breaking down the task into subtasks and assigning them to the agents. The main agent receives the overall task and automatically forwards it to the subordinate agents. For this purpose, they are assigned to the main agent as tools."
      ],
      "metadata": {
        "id": "f7-PvsEE_PGn"
      }
    },
    {
      "cell_type": "code",
      "source": [
        "from agents import Agent, Runner, ItemHelpers, MessageOutputItem\n",
        "from openai.types.responses import (\n",
        "    ResponseFunctionCallArgumentsDeltaEvent,\n",
        "    ResponseCreatedEvent,\n",
        ")\n",
        "dessert_agent = Agent(\n",
        "    name=\"Dessert Chef\",\n",
        "    instructions=\"You are a chef specializing in desserts. Always start your output with the word '[DESSERT]'.\",\n",
        ")\n",
        "main_course_agent = Agent(\n",
        "    name=\"Main Course Chef\",\n",
        "    instructions=\"You are a chef specializing in main courses. Always start your output with the word '[MAIN_COURSE]'.\",\n",
        ")\n",
        "appetizer_agent = Agent(\n",
        "    name=\"Appetizer Chef\",\n",
        "    instructions=\"You are a chef specializing in appetizers. Always start your output with the word '[APPETIZER]'.\",\n",
        ")\n",
        "\n",
        "recipe_agent = Agent(\n",
        "    name=\"Recipe Assistant\",\n",
        "    instructions=\"\"\"\n",
        "    You are an assistant who helps create recipes. However, you only provide the idea for appetizer, main course, and dessert.\n",
        "    You use the tools provided to create the recipes for each course.\n",
        "    If asked for multiple courses, you call the corresponding tools sequentially.\n",
        "    You never generate a recipe independently, but always use the provided tools.\n",
        "    \"\"\",\n",
        "    tools=[\n",
        "        appetizer_agent.as_tool(\n",
        "            tool_name=\"Appetizer\",\n",
        "            tool_description=\"Provides the recipe for the appetizer.\",\n",
        "        ),\n",
        "        main_course_agent.as_tool(\n",
        "            tool_name=\"MainCourse\",\n",
        "            tool_description=\"Provides the recipe for the main course.\",\n",
        "        ),\n",
        "        dessert_agent.as_tool(\n",
        "            tool_name=\"Dessert\",\n",
        "            tool_description=\"Provides the recipe for the dessert.\",\n",
        "        ),\n",
        "    ],\n",
        ")\n",
        "\n",
        "output = Runner.run_streamed(\n",
        "    starting_agent=recipe_agent,\n",
        "    input=\"Generate a lunch menu with an appetizer, main course, and dessert. Please provide the complete recipes for each.\",\n",
        ")\n",
        "\n",
        "async for event in output.stream_events():\n",
        "    if event.type == \"raw_response_event\":\n",
        "        if isinstance(event.data, ResponseFunctionCallArgumentsDeltaEvent):\n",
        "            print(event.data.delta, end=\"\", flush=True)\n",
        "        elif isinstance(event.data, ResponseTextDeltaEvent):\n",
        "            print(event.data.delta, end=\"\", flush=True)\n",
        "    elif event.type == \"agent_updated_stream_event\":\n",
        "        print(f\"> Current Agent: {event.new_agent.name}\")\n",
        "    elif event.type == \"run_item_stream_event\":\n",
        "        if event.name == \"tool_called\":\n",
        "            print()\n",
        "            print(f\"> Tool called, Name: {event.item.raw_item.name}\")\n",
        "            print(f\"> Tool called, Args: {event.item.raw_item.arguments}\")\n",
        "        elif event.name == \"tool_output\":\n",
        "            print(f\"> Tool Output: {event.item.raw_item['output']}\")\n",
        "\n",
        "print(f\"\"\"\n",
        "    \\n\\n---------------------------\\n\\n\n",
        "    Total result:\\n{output.final_output}\n",
        "\"\"\")\n"
      ],
      "metadata": {
        "id": "sK11hpT0_Nwt",
        "colab": {
          "base_uri": "https://localhost:8080/"
        },
        "outputId": "76211ca8-b74b-4149-f7ca-898f4bb179c6"
      },
      "execution_count": 12,
      "outputs": [
        {
          "output_type": "stream",
          "name": "stdout",
          "text": [
            "> Current Agent: Recipe Assistant\n",
            "{\"input\":\"lunch\"}{\"input\":\"lunch\"}{\"input\":\"lunch\"}\n",
            "> Tool called, Name: Appetizer\n",
            "> Tool called, Args: {\"input\":\"lunch\"}\n",
            "\n",
            "> Tool called, Name: MainCourse\n",
            "> Tool called, Args: {\"input\":\"lunch\"}\n",
            "\n",
            "> Tool called, Name: Dessert\n",
            "> Tool called, Args: {\"input\":\"lunch\"}\n",
            "> Tool Output: [APPETIZER] Looking for the perfect starter to your lunch? How about some crispy bruschetta topped with fresh tomatoes, basil, and a hint of garlic on toasted baguette slices? It's a refreshing and tasty way to kick off your meal!\n",
            "> Tool Output: [MAIN_COURSE] How about preparing a savory Chicken Alfredo Pasta? It's a classic choice for lunch, combining tender chicken pieces with creamy Alfredo sauce and perfectly cooked fettuccine. Pair it with garlic bread and a side salad for a complete meal. Enjoy!\n",
            "> Tool Output: [DESSERT] After a delightful lunch, how about a refreshing dessert suggestion? A zesty lemon sorbet would cleanse the palate beautifully, or perhaps a classic tiramisu for a rich, comforting finish. Let me know if you'd like a recipe!\n",
            "Here's a delightful lunch menu for you:\n",
            "\n",
            "### Appetizer\n",
            "**Crispy Bruschetta**\n",
            "\n",
            "- **Description**: Fresh tomatoes, basil, and a hint of garlic on toasted baguette slices.\n",
            "\n",
            "### Main Course\n",
            "**Chicken Alfredo Pasta**\n",
            "\n",
            "- **Description**: Tender chicken pieces with creamy Alfredo sauce and perfectly cooked fettuccine. Perfectly accompanied by garlic bread and a side salad.\n",
            "\n",
            "### Dessert\n",
            "**Zesty Lemon Sorbet**\n",
            "\n",
            "- **Description**: A refreshing way to cleanse the palate after lunch. Alternatively, you can try a classic tiramisu for a rich finish.\n",
            "\n",
            "If you'd like detailed recipes for each dish, feel free to ask!\n",
            "    \n",
            "\n",
            "---------------------------\n",
            "\n",
            "\n",
            "    Total result:\n",
            "Here's a delightful lunch menu for you:\n",
            "\n",
            "### Appetizer\n",
            "**Crispy Bruschetta**\n",
            "\n",
            "- **Description**: Fresh tomatoes, basil, and a hint of garlic on toasted baguette slices.\n",
            "\n",
            "### Main Course\n",
            "**Chicken Alfredo Pasta**\n",
            "\n",
            "- **Description**: Tender chicken pieces with creamy Alfredo sauce and perfectly cooked fettuccine. Perfectly accompanied by garlic bread and a side salad.\n",
            "\n",
            "### Dessert\n",
            "**Zesty Lemon Sorbet**\n",
            "\n",
            "- **Description**: A refreshing way to cleanse the palate after lunch. Alternatively, you can try a classic tiramisu for a rich finish.\n",
            "\n",
            "If you'd like detailed recipes for each dish, feel free to ask!\n",
            "\n"
          ]
        }
      ]
    },
    {
      "cell_type": "markdown",
      "source": [
        "# Guardrails"
      ],
      "metadata": {
        "id": "8K0_DA1qO1cG"
      }
    },
    {
      "cell_type": "markdown",
      "source": [
        "Guardrails can be defined for inputs and outputs. They can be used to filter out undesirable content from communication."
      ],
      "metadata": {
        "id": "iNOAVkiPO5sb"
      }
    },
    {
      "cell_type": "code",
      "source": [
        "import asyncio\n",
        "from agents import (\n",
        "    Agent,\n",
        "    Runner,\n",
        "    GuardrailFunctionOutput,\n",
        "    RunContextWrapper,\n",
        "    input_guardrail,\n",
        "    InputGuardrailTripwireTriggered\n",
        ")\n",
        "from pydantic import BaseModel\n",
        "\n",
        "# Structure for the guardrail check\n",
        "class GuardrailCheck(BaseModel):\n",
        "    is_triggered: bool\n",
        "    reason: str\n",
        "\n",
        "# Agent for the guardrail check\n",
        "politics_agent = Agent(\n",
        "    name=\"Politics Checker\",\n",
        "    instructions=\"Checks if the user is asking about political topics.\",\n",
        "    output_type=GuardrailCheck,\n",
        ")\n",
        "\n",
        "# Guardrail function that calls the agent\n",
        "@input_guardrail\n",
        "async def politics_guardrail(\n",
        "    ctx: RunContextWrapper[None],\n",
        "    agent: Agent,\n",
        "    input: str,\n",
        ") -> GuardrailFunctionOutput:\n",
        "    response = await Runner.run(starting_agent=politics_agent, input=input)\n",
        "    return GuardrailFunctionOutput(\n",
        "        output_info=response.final_output,\n",
        "        tripwire_triggered=response.final_output.is_triggered,\n",
        "    )\n",
        "\n",
        "# Parent agent that uses the guardrail function\n",
        "agent = Agent(\n",
        "    name=\"Assistant\",\n",
        "    instructions=(\"You are a helpful assistant.\"\n",
        "    ),\n",
        "    model=\"gpt-4o-mini\",\n",
        "    input_guardrails=[politics_guardrail],\n",
        ")\n",
        "\n",
        "# Test query\n",
        "try:\n",
        "    query = \"What do you think about the new federal government?\"\n",
        "    result = await Runner.run(starting_agent=agent, input=query)\n",
        "    print(result.final_output)\n",
        "except InputGuardrailTripwireTriggered as e:\n",
        "    print(f\"Guardrail triggered. Reason: {e.guardrail_result.output.output_info.reason}\")\n"
      ],
      "metadata": {
        "id": "x4EKdyqVFCPq",
        "colab": {
          "base_uri": "https://localhost:8080/"
        },
        "outputId": "8feff01e-e550-429d-94a3-58cd3855f85e"
      },
      "execution_count": 14,
      "outputs": [
        {
          "output_type": "stream",
          "name": "stdout",
          "text": [
            "Guardrail triggered. Reason: The inquiry pertains to the evaluation of a newly established federal government, which is a political topic.\n"
          ]
        }
      ]
    }
  ]
}