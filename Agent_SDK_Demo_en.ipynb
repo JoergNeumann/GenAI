{
  "nbformat": 4,
  "nbformat_minor": 0,
  "metadata": {
    "colab": {
      "provenance": [],
      "include_colab_link": true
    },
    "kernelspec": {
      "name": "python3",
      "display_name": "Python 3"
    },
    "language_info": {
      "name": "python"
    }
  },
  "cells": [
    {
      "cell_type": "markdown",
      "metadata": {
        "id": "view-in-github",
        "colab_type": "text"
      },
      "source": [
        "<a href=\"https://colab.research.google.com/github/JoergNeumann/GenAI/blob/main/Agent_SDK_Demo_en.ipynb\" target=\"_parent\"><img src=\"https://colab.research.google.com/assets/colab-badge.svg\" alt=\"Open In Colab\"/></a>"
      ]
    },
    {
      "cell_type": "markdown",
      "source": [
        "# Agent SDK Demo"
      ],
      "metadata": {
        "id": "L31NhjT1YmzQ"
      }
    },
    {
      "cell_type": "markdown",
      "source": [
        "Demonstrates the use of OpenAI's Agent SDK."
      ],
      "metadata": {
        "id": "Cd5T_npUYrOb"
      }
    },
    {
      "cell_type": "markdown",
      "source": [
        "**Setup**"
      ],
      "metadata": {
        "id": "GHEfk2S4Y770"
      }
    },
    {
      "cell_type": "code",
      "execution_count": null,
      "metadata": {
        "id": "gAcFwItSYe_C"
      },
      "outputs": [],
      "source": [
        "!pip install -qU openai-agents==0.0.3"
      ]
    },
    {
      "cell_type": "code",
      "source": [
        "import os\n",
        "import json\n",
        "from agents import set_tracing_export_api_key\n",
        "\n",
        "# Read OpenAI API Key from Colab Secret and create OpenAI Client\n",
        "from google.colab import userdata\n",
        "os.environ[\"OPENAI_API_KEY\"] = userdata.get('OPENAI_API_KEY')\n",
        "\n",
        "set_tracing_export_api_key(os.environ.get('OPENAI_API_KEY'))"
      ],
      "metadata": {
        "id": "oTpIcmYwZGAM"
      },
      "execution_count": null,
      "outputs": []
    },
    {
      "cell_type": "markdown",
      "source": [
        "# Define Agent"
      ],
      "metadata": {
        "id": "xuURCmRyzEVm"
      }
    },
    {
      "cell_type": "code",
      "source": [
        "from agents import Agent, Runner\n",
        "\n",
        "agent = Agent(\n",
        "    name=\"Assistant\",\n",
        "    instructions=\"You are a helpful assistant.\",\n",
        "    model=\"gpt-4o-mini\",\n",
        ")"
      ],
      "metadata": {
        "id": "w9C6hBcuzLvO"
      },
      "execution_count": null,
      "outputs": []
    },
    {
      "cell_type": "markdown",
      "source": [
        "# Run Agent"
      ],
      "metadata": {
        "id": "f5ZEorV8zdr9"
      }
    },
    {
      "cell_type": "code",
      "source": [
        "result = await Runner.run(\n",
        "    starting_agent=agent,\n",
        "    input=\"Create a simple lunch menu.\"\n",
        ")\n",
        "output = result.final_output\n",
        "\n",
        "# Output Markdown\n",
        "from IPython.display import Markdown\n",
        "display(Markdown(output))"
      ],
      "metadata": {
        "id": "1XXD1toEzfI2"
      },
      "execution_count": null,
      "outputs": []
    },
    {
      "cell_type": "markdown",
      "source": [
        "# Streaming\n",
        "The output can also be streamed."
      ],
      "metadata": {
        "id": "7tJdNVFeR2lf"
      }
    },
    {
      "cell_type": "code",
      "source": [
        "from openai.types.responses import ResponseTextDeltaEvent\n",
        "\n",
        "response = Runner.run_streamed(\n",
        "    starting_agent=agent,\n",
        "    input=\"Explain the basics of generative AI\"\n",
        ")\n",
        "\n",
        "async for event in response.stream_events():\n",
        "    if event.type == \"raw_response_event\" and \\\n",
        "        isinstance(event.data, ResponseTextDeltaEvent):\n",
        "        print(event.data.delta, end=\"\", flush=True)"
      ],
      "metadata": {
        "id": "KfmzdIkyR1ns"
      },
      "execution_count": null,
      "outputs": []
    },
    {
      "cell_type": "markdown",
      "source": [
        "# Integrate Functions"
      ],
      "metadata": {
        "id": "GL-8QRqG0X_4"
      }
    },
    {
      "cell_type": "code",
      "source": [
        "shopping_list = []\n",
        "\n",
        "from agents import function_tool\n",
        "\n",
        "@function_tool\n",
        "def add_to_shopping_list(article: str):\n",
        "    shopping_list.append(article)\n",
        "    print(f\"### add_to_shopping_list: '{article}' was added to the shopping list. ###\")\n",
        "    #print(\"Current shopping list:\", shopping_list)\n"
      ],
      "metadata": {
        "id": "1v-_AzgT0bNY"
      },
      "execution_count": null,
      "outputs": []
    },
    {
      "cell_type": "markdown",
      "source": [
        "Now we can register the function as a tool with the agent..."
      ],
      "metadata": {
        "id": "Lvpsw7Ou6i9d"
      }
    },
    {
      "cell_type": "code",
      "source": [
        "agent = Agent(\n",
        "    name=\"Assistant\",\n",
        "    instructions=(\"You are a helpful assistant.\"),\n",
        "    model=\"gpt-4o-mini\",\n",
        "    tools=[add_to_shopping_list]\n",
        ")"
      ],
      "metadata": {
        "id": "55JhHvx06pOP"
      },
      "execution_count": null,
      "outputs": []
    },
    {
      "cell_type": "markdown",
      "source": [
        "... and start the query"
      ],
      "metadata": {
        "id": "mPKoiH_y7Jiz"
      }
    },
    {
      "cell_type": "code",
      "source": [
        "response = await Runner.run(\n",
        "    starting_agent=agent,\n",
        "    input=\"Add eggs to the shopping list!\"\n",
        ")\n",
        "print(response.final_output)\n"
      ],
      "metadata": {
        "id": "rWpPUmEC7KGI"
      },
      "execution_count": null,
      "outputs": []
    },
    {
      "cell_type": "markdown",
      "source": [
        "# Integrate Tool\n",
        "WebSearch is a pre-built tool from OpenAI. It allows using web search to complete the task."
      ],
      "metadata": {
        "id": "mirfW1BzTU5T"
      }
    },
    {
      "cell_type": "code",
      "source": [
        "from agents import WebSearchTool\n",
        "\n",
        "web_agent = Agent(\n",
        "    name=\"Web Assistant\",\n",
        "    instructions=\"You are an assistant who retrieves current news from the internet.\",\n",
        "    output_type=str,\n",
        "    tools=[WebSearchTool()],\n",
        ")\n",
        "output = await Runner.run(\n",
        "    starting_agent=web_agent,\n",
        "    input=\"Find the results of the last matchday (32nd matchday, 2025) of the German Football Bundesliga.\",\n",
        ")\n",
        "from IPython.display import Markdown\n",
        "display(Markdown(output.final_output))"
      ],
      "metadata": {
        "id": "yFjIIeC0Tt0t"
      },
      "execution_count": null,
      "outputs": []
    },
    {
      "cell_type": "markdown",
      "source": [
        "# Conversation"
      ],
      "metadata": {
        "id": "uuR-6k4DKbQY"
      }
    },
    {
      "cell_type": "code",
      "source": [
        "# Call agent with an instruction\n",
        "result = await Runner.run(\n",
        "    starting_agent=agent,\n",
        "    input=\"Calculate the square root of 10.\"\n",
        ")\n",
        "\n",
        "print(f'1st pass: {result.final_output}')\n",
        "print(json.dumps(result.to_input_list(), indent=4, ensure_ascii=False))\n",
        "\n",
        "# Call agent again with the previous result and an additional query\n",
        "result = await Runner.run(\n",
        "    starting_agent=agent,\n",
        "    input=result.to_input_list() + [\n",
        "        {\"role\": \"user\", \"content\": \"Generate a Python function for the calculation.\"}\n",
        "    ]\n",
        ")\n",
        "print(f'2nd pass: {result.final_output}')"
      ],
      "metadata": {
        "id": "1uT2KbvzKdJ1"
      },
      "execution_count": null,
      "outputs": []
    },
    {
      "cell_type": "markdown",
      "source": [
        "# Handoffs\n",
        "Handoffs refer to the delegation of control from one agent to the next. This allows for flexible decisions on which agent should handle a task based on the prompt."
      ],
      "metadata": {
        "id": "H43a-nRS1O9Q"
      }
    },
    {
      "cell_type": "code",
      "source": [
        "@function_tool\n",
        "def record_travel_costs(amount: float):\n",
        "    return \"Travel costs have been recorded.\"\n",
        "\n",
        "@function_tool\n",
        "def record_fuel_costs(amount: float):\n",
        "    return \"Fuel costs have been recorded.\"\n",
        "\n",
        "@function_tool\n",
        "def record_expenses(amount: float):\n",
        "    return \"Expenses have been recorded.\"\n",
        "\n",
        "travel_cost_agent = Agent(\n",
        "    name=\"Travel Cost Agent\",\n",
        "    instructions=\"You are an accountant and process travel expenses. Use the provided tool for this.\",\n",
        "    tools=[record_travel_costs],\n",
        ")\n",
        "fuel_cost_agent = Agent(\n",
        "    name=\"Fuel Cost Agent\",\n",
        "    instructions=\"You are an accountant and process fuel expenses. Use the provided tool for this.\",\n",
        "    tools=[record_fuel_costs],\n",
        ")\n",
        "expenses_agent = Agent(\n",
        "    name=\"Expenses Agent\",\n",
        "    instructions=\"You are an accountant and process expense reports. Use the provided tool for this.\",\n",
        "    tools=[record_expenses],\n",
        ")\n",
        "\n",
        "triage_agent = Agent(\n",
        "    name=\"Triage Agent\",\n",
        "    instructions=\"You route the user to a suitable agent. Please do not ask follow-up questions to the user.\",\n",
        "    handoffs=[fuel_cost_agent, travel_cost_agent, expenses_agent]\n",
        ")\n",
        "\n",
        "user_query = \"Please record my travel expenses of €122.\"\n",
        "#user_query = \"Please record my fuel costs of €54.\"\n",
        "#user_query = \"Please record my expenses of €67.\"\n",
        "print(\"User:\", user_query)\n",
        "\n",
        "output = Runner.run_streamed(\n",
        "    starting_agent=triage_agent,\n",
        "    input=user_query,\n",
        ")\n",
        "from openai.types.responses import (\n",
        "    ResponseFunctionCallArgumentsDeltaEvent,\n",
        "    ResponseCreatedEvent,\n",
        ")\n",
        "async for event in output.stream_events():\n",
        "    if event.type == \"raw_response_event\":\n",
        "        if isinstance(event.data, ResponseFunctionCallArgumentsDeltaEvent):\n",
        "            print(event.data.delta, end=\"\", flush=True)\n",
        "        elif isinstance(event.data, ResponseTextDeltaEvent):\n",
        "            print(event.data.delta, end=\"\", flush=True)\n",
        "    elif event.type == \"agent_updated_stream_event\":\n",
        "        print(f\"> Current Agent: {event.new_agent.name}\")\n",
        "    elif event.type == \"run_item_stream_event\":\n",
        "        if event.name == \"tool_called\":\n",
        "            print()\n",
        "            print(f\"> Tool called, Name: {event.item.raw_item.name}\")\n",
        "            print(f\"> Tool called, Args: {event.item.raw_item.arguments}\")\n",
        "        elif event.name == \"tool_output\":\n",
        "            print(f\"> Tool Output: {event.item.raw_item['output']}\")"
      ],
      "metadata": {
        "id": "sc9PULe-1RD7"
      },
      "execution_count": null,
      "outputs": []
    },
    {
      "cell_type": "markdown",
      "source": [
        "# Agents as Tools\n",
        "Multiple agents can also share a large task. This involves breaking down the task into subtasks and assigning them to the agents. The main agent receives the overall task and automatically forwards it to the subordinate agents. For this purpose, they are assigned to the main agent as tools."
      ],
      "metadata": {
        "id": "f7-PvsEE_PGn"
      }
    },
    {
      "cell_type": "code",
      "source": [
        "from agents import Agent, Runner, ItemHelpers, MessageOutputItem\n",
        "from openai.types.responses import (\n",
        "    ResponseFunctionCallArgumentsDeltaEvent,\n",
        "    ResponseCreatedEvent,\n",
        ")\n",
        "dessert_agent = Agent(\n",
        "    name=\"Dessert Chef\",\n",
        "    instructions=\"You are a chef specializing in desserts. Always start your output with the word '[DESSERT]'.\",\n",
        ")\n",
        "main_course_agent = Agent(\n",
        "    name=\"Main Course Chef\",\n",
        "    instructions=\"You are a chef specializing in main courses. Always start your output with the word '[MAIN_COURSE]'.\",\n",
        ")\n",
        "appetizer_agent = Agent(\n",
        "    name=\"Appetizer Chef\",\n",
        "    instructions=\"You are a chef specializing in appetizers. Always start your output with the word '[APPETIZER]'.\",\n",
        ")\n",
        "\n",
        "recipe_agent = Agent(\n",
        "    name=\"Recipe Assistant\",\n",
        "    instructions=\"\"\"\n",
        "    You are an assistant who helps create recipes. However, you only provide the idea for appetizer, main course, and dessert.\n",
        "    You use the tools provided to create the recipes for each course.\n",
        "    If asked for multiple courses, you call the corresponding tools sequentially.\n",
        "    You never generate a recipe independently, but always use the provided tools.\n",
        "    \"\"\",\n",
        "    tools=[\n",
        "        appetizer_agent.as_tool(\n",
        "            tool_name=\"Appetizer\",\n",
        "            tool_description=\"Provides the recipe for the appetizer.\",\n",
        "        ),\n",
        "        main_course_agent.as_tool(\n",
        "            tool_name=\"MainCourse\",\n",
        "            tool_description=\"Provides the recipe for the main course.\",\n",
        "        ),\n",
        "        dessert_agent.as_tool(\n",
        "            tool_name=\"Dessert\",\n",
        "            tool_description=\"Provides the recipe for the dessert.\",\n",
        "        ),\n",
        "    ],\n",
        ")\n",
        "\n",
        "output = Runner.run_streamed(\n",
        "    starting_agent=recipe_agent,\n",
        "    input=\"Generate a lunch menu with an appetizer, main course, and dessert. Please provide the complete recipes for each.\",\n",
        ")\n",
        "\n",
        "async for event in output.stream_events():\n",
        "    if event.type == \"raw_response_event\":\n",
        "        if isinstance(event.data, ResponseFunctionCallArgumentsDeltaEvent):\n",
        "            print(event.data.delta, end=\"\", flush=True)\n",
        "        elif isinstance(event.data, ResponseTextDeltaEvent):\n",
        "            print(event.data.delta, end=\"\", flush=True)\n",
        "    elif event.type == \"agent_updated_stream_event\":\n",
        "        print(f\"> Current Agent: {event.new_agent.name}\")\n",
        "    elif event.type == \"run_item_stream_event\":\n",
        "        if event.name == \"tool_called\":\n",
        "            print()\n",
        "            print(f\"> Tool called, Name: {event.item.raw_item.name}\")\n",
        "            print(f\"> Tool called, Args: {event.item.raw_item.arguments}\")\n",
        "        elif event.name == \"tool_output\":\n",
        "            print(f\"> Tool Output: {event.item.raw_item['output']}\")\n",
        "\n",
        "print(f\"\"\"\n",
        "    \\n\\n---------------------------\\n\\n\n",
        "    Total result:\\n{output.final_output}\n",
        "\"\"\")\n"
      ],
      "metadata": {
        "id": "sK11hpT0_Nwt"
      },
      "execution_count": null,
      "outputs": []
    },
    {
      "cell_type": "markdown",
      "source": [
        "# Guardrails"
      ],
      "metadata": {
        "id": "8K0_DA1qO1cG"
      }
    },
    {
      "cell_type": "markdown",
      "source": [
        "Guardrails can be defined for inputs and outputs. They can be used to filter out undesirable content from communication."
      ],
      "metadata": {
        "id": "iNOAVkiPO5sb"
      }
    },
    {
      "cell_type": "code",
      "source": [
        "import asyncio\n",
        "from agents import (\n",
        "    Agent,\n",
        "    Runner,\n",
        "    GuardrailFunctionOutput,\n",
        "    RunContextWrapper,\n",
        "    input_guardrail,\n",
        "    InputGuardrailTripwireTriggered\n",
        ")\n",
        "from pydantic import BaseModel\n",
        "\n",
        "# Structure for the guardrail check\n",
        "class GuardrailCheck(BaseModel):\n",
        "    is_triggered: bool\n",
        "    reason: str\n",
        "\n",
        "# Agent for the guardrail check\n",
        "politics_agent = Agent(\n",
        "    name=\"Politics Checker\",\n",
        "    instructions=\"Checks if the user is asking about political topics. Output a reason in German.\",\n",
        "    output_type=GuardrailCheck,\n",
        ")\n",
        "\n",
        "# Guardrail function that calls the agent\n",
        "@input_guardrail\n",
        "async def politics_guardrail(\n",
        "    ctx: RunContextWrapper[None],\n",
        "    agent: Agent,\n",
        "    input: str,\n",
        ") -> GuardrailFunctionOutput:\n",
        "    response = await Runner.run(starting_agent=politics_agent, input=input)\n",
        "    return GuardrailFunctionOutput(\n",
        "        output_info=response.final_output,\n",
        "        tripwire_triggered=response.final_output.is_triggered,\n",
        "    )\n",
        "\n",
        "# Parent agent that uses the guardrail function\n",
        "agent = Agent(\n",
        "    name=\"Assistant\",\n",
        "    instructions=(\"You are a helpful assistant.\"\n",
        "    ),\n",
        "    model=\"gpt-4o-mini\",\n",
        "    input_guardrails=[politics_guardrail],\n",
        ")\n",
        "\n",
        "# Test query\n",
        "try:\n",
        "    query = \"What do you think about the new federal government?\"\n",
        "    result = await Runner.run(starting_agent=agent, input=query)\n",
        "    print(result.final_output)\n",
        "except InputGuardrailTripwireTriggered as e:\n",
        "    print(f\"Guardrail triggered. Reason: {e.guardrail_result.output.output_info.reason}\")\n"
      ],
      "metadata": {
        "id": "x4EKdyqVFCPq"
      },
      "execution_count": null,
      "outputs": []
    }
  ]
}